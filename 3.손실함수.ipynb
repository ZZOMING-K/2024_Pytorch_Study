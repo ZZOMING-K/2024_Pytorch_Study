{
 "cells": [
  {
   "cell_type": "markdown",
   "id": "80fad9d0",
   "metadata": {},
   "source": [
    "# 우리의 목표 \n",
    "* 데잍를 넣었을 때 출력을 반환하는 가상의 함수를 모사하는 것 \n",
    "* Linear Layer 함수를 통해 원하는 함수를 모사\n",
    "    * 해당 함수가 얼마나 원하는 만큼 동작하는 측정 (`점수로 측정`) \n",
    "    \n",
    "## Loss \n",
    "* Loss(손실값) : 원하는 출력값(target) 와 실제 출력값 (output) 차이의 합\n",
    "* Loss가 작을수록 가상의 함수를 잘 모사하고 있다고 할 수 있다\n",
    "* 따라서 **Loss가 가장 작은 Linear Layer을 선택**하면 된다. \n",
    "\n",
    "## Loss Function \n",
    "* Linear Layer의 파라미터를 바꿀때마다 Loss 계산 \n",
    "* Loss Function \n",
    "    * 입력 : Linear Layer 파라미터\n",
    "    * 출력 : Loss "
   ]
  },
  {
   "cell_type": "markdown",
   "id": "433f9fc7",
   "metadata": {},
   "source": [
    "## MSE Loss \n",
    "* MSE : 평균제곱오차 → 오차를 제곱하여 평균을 취한 것 "
   ]
  },
  {
   "cell_type": "code",
   "execution_count": 12,
   "id": "aee0ea55",
   "metadata": {},
   "outputs": [],
   "source": [
    "import torch "
   ]
  },
  {
   "cell_type": "code",
   "execution_count": 13,
   "id": "b7420338",
   "metadata": {},
   "outputs": [],
   "source": [
    "def mae(x_hat , x) :\n",
    "    # |x_hat| = (batch_size , dim)\n",
    "    #|x| = (batch_size , dim)\n",
    "    y = ((x-x_hat)**2).mean()\n",
    "    \n",
    "    return y"
   ]
  },
  {
   "cell_type": "code",
   "execution_count": 14,
   "id": "3ea40ffb",
   "metadata": {},
   "outputs": [
    {
     "name": "stdout",
     "output_type": "stream",
     "text": [
      "torch.Size([2, 2]) torch.Size([2, 2])\n"
     ]
    }
   ],
   "source": [
    "x = torch.FloatTensor([[1,1],\n",
    "                      [2,2]]) \n",
    "x_hat = torch.FloatTensor([[0,0],\n",
    "                          [0,0]])\n",
    "\n",
    "print(x.size() , x_hat.size())"
   ]
  },
  {
   "cell_type": "code",
   "execution_count": 15,
   "id": "17bc19c5",
   "metadata": {},
   "outputs": [
    {
     "data": {
      "text/plain": [
       "tensor(2.5000)"
      ]
     },
     "execution_count": 15,
     "metadata": {},
     "output_type": "execute_result"
    }
   ],
   "source": [
    "mae(x_hat , x )"
   ]
  },
  {
   "cell_type": "markdown",
   "id": "59730bd0",
   "metadata": {},
   "source": [
    "## Prefined MSE in PyTorch"
   ]
  },
  {
   "cell_type": "code",
   "execution_count": 16,
   "id": "008d308c",
   "metadata": {},
   "outputs": [],
   "source": [
    "import torch.nn.functional as F "
   ]
  },
  {
   "cell_type": "code",
   "execution_count": 18,
   "id": "8d85480a",
   "metadata": {},
   "outputs": [
    {
     "data": {
      "text/plain": [
       "tensor(2.5000)"
      ]
     },
     "execution_count": 18,
     "metadata": {},
     "output_type": "execute_result"
    }
   ],
   "source": [
    "F.mse_loss(x_hat , x ) "
   ]
  },
  {
   "cell_type": "code",
   "execution_count": 24,
   "id": "c2ff13b3",
   "metadata": {},
   "outputs": [
    {
     "data": {
      "text/plain": [
       "tensor(10.)"
      ]
     },
     "execution_count": 24,
     "metadata": {},
     "output_type": "execute_result"
    }
   ],
   "source": [
    "F.mse_loss(x_hat , x  , reduction = 'sum')"
   ]
  },
  {
   "cell_type": "code",
   "execution_count": 26,
   "id": "4b0cc6e9",
   "metadata": {},
   "outputs": [
    {
     "data": {
      "text/plain": [
       "tensor([[1., 1.],\n",
       "        [4., 4.]])"
      ]
     },
     "execution_count": 26,
     "metadata": {},
     "output_type": "execute_result"
    }
   ],
   "source": [
    "F.mse_loss(x_hat , x  , reduction = 'none')"
   ]
  },
  {
   "cell_type": "markdown",
   "id": "e1662a85",
   "metadata": {},
   "source": [
    "* 손실 값을 구할 때 차원 감소 연산에 대한 설정이 가능하다.\n",
    "* reduction = mean(default)"
   ]
  },
  {
   "cell_type": "code",
   "execution_count": 23,
   "id": "b8d06182",
   "metadata": {},
   "outputs": [
    {
     "data": {
      "text/plain": [
       "tensor(2.5000)"
      ]
     },
     "execution_count": 23,
     "metadata": {},
     "output_type": "execute_result"
    }
   ],
   "source": [
    "import torch.nn as nn \n",
    "mse_loss = nn.MSELoss()\n",
    "mse_loss(x_hat , x)"
   ]
  }
 ],
 "metadata": {
  "kernelspec": {
   "display_name": "Python 3 (ipykernel)",
   "language": "python",
   "name": "python3"
  },
  "language_info": {
   "codemirror_mode": {
    "name": "ipython",
    "version": 3
   },
   "file_extension": ".py",
   "mimetype": "text/x-python",
   "name": "python",
   "nbconvert_exporter": "python",
   "pygments_lexer": "ipython3",
   "version": "3.11.5"
  }
 },
 "nbformat": 4,
 "nbformat_minor": 5
}
