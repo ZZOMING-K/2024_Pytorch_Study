{
 "cells": [
  {
   "cell_type": "markdown",
   "id": "e910ba14",
   "metadata": {},
   "source": [
    "# 1. 텐서 생성하기 \n",
    "\n",
    "* 텐서는 딥러닝에서 가장 기본이 되는 단위 중 하나이다. "
   ]
  },
  {
   "cell_type": "code",
   "execution_count": 3,
   "id": "bfcaefe5",
   "metadata": {},
   "outputs": [],
   "source": [
    "import torch "
   ]
  },
  {
   "cell_type": "markdown",
   "id": "3305371f",
   "metadata": {},
   "source": [
    "## Tensor Allocation"
   ]
  },
  {
   "cell_type": "code",
   "execution_count": 5,
   "id": "d2611f47",
   "metadata": {},
   "outputs": [
    {
     "data": {
      "text/plain": [
       "tensor([[1., 2.],\n",
       "        [3., 4.]])"
      ]
     },
     "execution_count": 5,
     "metadata": {},
     "output_type": "execute_result"
    }
   ],
   "source": [
    "#실수형 float 텐서 선언 \n",
    "ft = torch.FloatTensor([[1,2],\n",
    "                       [3,4]])\n",
    "ft"
   ]
  },
  {
   "cell_type": "code",
   "execution_count": 6,
   "id": "1138a449",
   "metadata": {},
   "outputs": [
    {
     "data": {
      "text/plain": [
       "tensor([[1, 2],\n",
       "        [3, 4]])"
      ]
     },
     "execution_count": 6,
     "metadata": {},
     "output_type": "execute_result"
    }
   ],
   "source": [
    "#정수형 텐서 선언 => 인덱스 값을 담을 때 자주 사용 \n",
    "lt = torch.LongTensor([[1,2],\n",
    "                      [3,4]])\n",
    "lt"
   ]
  },
  {
   "cell_type": "code",
   "execution_count": 10,
   "id": "b7fe6fed",
   "metadata": {},
   "outputs": [
    {
     "data": {
      "text/plain": [
       "tensor([[1, 0],\n",
       "        [0, 1]], dtype=torch.uint8)"
      ]
     },
     "execution_count": 10,
     "metadata": {},
     "output_type": "execute_result"
    }
   ],
   "source": [
    "bt = torch.ByteTensor([[1,0] , \n",
    "                     [0,1]])\n",
    "bt"
   ]
  },
  {
   "cell_type": "code",
   "execution_count": 11,
   "id": "8f6b356b",
   "metadata": {},
   "outputs": [
    {
     "data": {
      "text/plain": [
       "tensor([[0., 0.],\n",
       "        [0., 0.],\n",
       "        [0., 0.]])"
      ]
     },
     "execution_count": 11,
     "metadata": {},
     "output_type": "execute_result"
    }
   ],
   "source": [
    "x = torch.FloatTensor(3,2)\n",
    "x"
   ]
  },
  {
   "cell_type": "markdown",
   "id": "95417874",
   "metadata": {},
   "source": [
    "## Numpy Compatibility (넘파이 호환)\n",
    "\n",
    "* 파이토치는 넘파이와 높은 호환성을 자랑한다.\n",
    "* 넘파이 배열을 파이토치 텐서로 쉽게 변환할 수 있다. \n",
    "    * torch.from_numpy(x) : 넘파이 -> 파이토치 텐서\n",
    "    * x.numpy() : 파이토치 텐서 -> 넘파이"
   ]
  },
  {
   "cell_type": "code",
   "execution_count": 23,
   "id": "b59efb0a",
   "metadata": {},
   "outputs": [
    {
     "name": "stdout",
     "output_type": "stream",
     "text": [
      "[[1 2]\n",
      " [3 4]] <class 'numpy.ndarray'>\n"
     ]
    }
   ],
   "source": [
    "import numpy as np\n",
    "\n",
    "x = np.array([[1,2],\n",
    "            [3,4]])\n",
    "print(x, type(x))"
   ]
  },
  {
   "cell_type": "code",
   "execution_count": 24,
   "id": "7170eee7",
   "metadata": {},
   "outputs": [
    {
     "name": "stdout",
     "output_type": "stream",
     "text": [
      "tensor([[1, 2],\n",
      "        [3, 4]], dtype=torch.int32) <class 'torch.Tensor'>\n"
     ]
    }
   ],
   "source": [
    "x= torch.from_numpy(x)\n",
    "print(x , type(x))"
   ]
  },
  {
   "cell_type": "code",
   "execution_count": 25,
   "id": "d96668a0",
   "metadata": {},
   "outputs": [
    {
     "name": "stdout",
     "output_type": "stream",
     "text": [
      "[[1 2]\n",
      " [3 4]] <class 'numpy.ndarray'>\n"
     ]
    }
   ],
   "source": [
    "x= x.numpy()\n",
    "print(x , type(x))"
   ]
  },
  {
   "cell_type": "markdown",
   "id": "d246ff3b",
   "metadata": {},
   "source": [
    "## Tensor Type-casting \n",
    "\n",
    "* 서로 다른 타입의 텐서끼리 연산을 진행하면 error 발생\n",
    "* 따라서 같은 타입으로 맞춰줘야 함 "
   ]
  },
  {
   "cell_type": "code",
   "execution_count": 13,
   "id": "e977865a",
   "metadata": {},
   "outputs": [
    {
     "data": {
      "text/plain": [
       "tensor([[1, 2],\n",
       "        [3, 4]])"
      ]
     },
     "execution_count": 13,
     "metadata": {},
     "output_type": "execute_result"
    }
   ],
   "source": [
    "ft.long() #long타입으로 변환"
   ]
  },
  {
   "cell_type": "code",
   "execution_count": 14,
   "id": "8c344196",
   "metadata": {},
   "outputs": [
    {
     "data": {
      "text/plain": [
       "tensor([[1., 2.],\n",
       "        [3., 4.]])"
      ]
     },
     "execution_count": 14,
     "metadata": {},
     "output_type": "execute_result"
    }
   ],
   "source": [
    "ft.float() #float타입으로 변환"
   ]
  },
  {
   "cell_type": "code",
   "execution_count": 12,
   "id": "5a71f8f3",
   "metadata": {},
   "outputs": [
    {
     "data": {
      "text/plain": [
       "tensor([1, 0], dtype=torch.uint8)"
      ]
     },
     "execution_count": 12,
     "metadata": {},
     "output_type": "execute_result"
    }
   ],
   "source": [
    "torch.FloatTensor([1,0]).byte() #byte타입으로 변환"
   ]
  },
  {
   "cell_type": "markdown",
   "id": "f5f6ae48",
   "metadata": {},
   "source": [
    "## Get Shape (텐서 크기 구하기) "
   ]
  },
  {
   "cell_type": "code",
   "execution_count": 16,
   "id": "8ca161ec",
   "metadata": {},
   "outputs": [],
   "source": [
    "x = torch.FloatTensor([[[1,2],\n",
    "                        [3,4]],\n",
    "                      [ [5,6],\n",
    "                        [7,8]],\n",
    "                      [ [9,10],\n",
    "                        [11,12]]])\n"
   ]
  },
  {
   "cell_type": "code",
   "execution_count": 17,
   "id": "29be3525",
   "metadata": {},
   "outputs": [
    {
     "name": "stdout",
     "output_type": "stream",
     "text": [
      "torch.Size([3, 2, 2])\n",
      "torch.Size([3, 2, 2])\n"
     ]
    }
   ],
   "source": [
    "#텐서 크기 구하기 \n",
    "print(x.size()) \n",
    "print(x.shape)"
   ]
  },
  {
   "cell_type": "code",
   "execution_count": 19,
   "id": "e5cafed1",
   "metadata": {},
   "outputs": [
    {
     "name": "stdout",
     "output_type": "stream",
     "text": [
      "3\n",
      "3\n"
     ]
    }
   ],
   "source": [
    "#텐서 차원의 개수 구하기 (shpe 속성의 배열 크기와 동일)\n",
    "print(x.dim())\n",
    "print(len(x.size()))"
   ]
  },
  {
   "cell_type": "code",
   "execution_count": 21,
   "id": "fad363f1",
   "metadata": {},
   "outputs": [
    {
     "name": "stdout",
     "output_type": "stream",
     "text": [
      "2\n",
      "2\n"
     ]
    }
   ],
   "source": [
    "#특정 차원의 크기 구하기 \n",
    "print(x.size(1))\n",
    "print(x.shape[1])"
   ]
  },
  {
   "cell_type": "code",
   "execution_count": 22,
   "id": "f5bf136a",
   "metadata": {},
   "outputs": [
    {
     "name": "stdout",
     "output_type": "stream",
     "text": [
      "2\n",
      "2\n"
     ]
    }
   ],
   "source": [
    "print(x.size(-1))\n",
    "print(x.shape[-1])"
   ]
  },
  {
   "cell_type": "markdown",
   "id": "021dceec",
   "metadata": {},
   "source": [
    "# 2. 기본연산 "
   ]
  },
  {
   "cell_type": "markdown",
   "id": "9ce1cd46",
   "metadata": {},
   "source": [
    "## Arithmetic Element-wise Operations (요소별 산술 연산) "
   ]
  },
  {
   "cell_type": "code",
   "execution_count": 27,
   "id": "706cbb0e",
   "metadata": {},
   "outputs": [],
   "source": [
    "a = torch.FloatTensor([[1,2],\n",
    "                      [3,4]])\n",
    "b = torch.FloatTensor([[2,2],\n",
    "                      [3,3]])"
   ]
  },
  {
   "cell_type": "code",
   "execution_count": 28,
   "id": "6787263b",
   "metadata": {},
   "outputs": [
    {
     "data": {
      "text/plain": [
       "tensor([[3., 4.],\n",
       "        [6., 7.]])"
      ]
     },
     "execution_count": 28,
     "metadata": {},
     "output_type": "execute_result"
    }
   ],
   "source": [
    "a+b #덧셈"
   ]
  },
  {
   "cell_type": "code",
   "execution_count": 29,
   "id": "a5b5aaf5",
   "metadata": {},
   "outputs": [
    {
     "data": {
      "text/plain": [
       "tensor([[-1.,  0.],\n",
       "        [ 0.,  1.]])"
      ]
     },
     "execution_count": 29,
     "metadata": {},
     "output_type": "execute_result"
    }
   ],
   "source": [
    "a-b #뺄셈"
   ]
  },
  {
   "cell_type": "code",
   "execution_count": 30,
   "id": "f26c4509",
   "metadata": {},
   "outputs": [
    {
     "data": {
      "text/plain": [
       "tensor([[0.5000, 1.0000],\n",
       "        [1.0000, 1.3333]])"
      ]
     },
     "execution_count": 30,
     "metadata": {},
     "output_type": "execute_result"
    }
   ],
   "source": [
    "a/b #나누기"
   ]
  },
  {
   "cell_type": "code",
   "execution_count": 31,
   "id": "590780bd",
   "metadata": {},
   "outputs": [
    {
     "data": {
      "text/plain": [
       "tensor([[ 2.,  4.],\n",
       "        [ 9., 12.]])"
      ]
     },
     "execution_count": 31,
     "metadata": {},
     "output_type": "execute_result"
    }
   ],
   "source": [
    "a*b #곱하기"
   ]
  },
  {
   "cell_type": "code",
   "execution_count": 32,
   "id": "fba7a10b",
   "metadata": {},
   "outputs": [
    {
     "data": {
      "text/plain": [
       "tensor([[ 1.,  4.],\n",
       "        [27., 64.]])"
      ]
     },
     "execution_count": 32,
     "metadata": {},
     "output_type": "execute_result"
    }
   ],
   "source": [
    "a**b #제곱"
   ]
  },
  {
   "cell_type": "code",
   "execution_count": 33,
   "id": "481ebf7e",
   "metadata": {},
   "outputs": [
    {
     "data": {
      "text/plain": [
       "tensor([[False,  True],\n",
       "        [ True, False]])"
      ]
     },
     "execution_count": 33,
     "metadata": {},
     "output_type": "execute_result"
    }
   ],
   "source": [
    "#논리연산자 => 행렬의 각 위치의 요소가 같은 값일 경우 True, 아닐경우 False 반환\n",
    "a==b"
   ]
  },
  {
   "cell_type": "code",
   "execution_count": 34,
   "id": "b354273a",
   "metadata": {},
   "outputs": [
    {
     "data": {
      "text/plain": [
       "tensor([[ True, False],\n",
       "        [False,  True]])"
      ]
     },
     "execution_count": 34,
     "metadata": {},
     "output_type": "execute_result"
    }
   ],
   "source": [
    "a!=b"
   ]
  },
  {
   "cell_type": "markdown",
   "id": "a03a0a6b",
   "metadata": {},
   "source": [
    "## Inplace Operations (인플레이션 연산) \n",
    "* 앞서 수행한 연산들의 결과 텐서는 메모리에 새롭게 할당된다.\n",
    "* 인플레이스 연산은 같은 산술연산을 수행하지만 기존 텐서에 결과가 저장된다. \n",
    "* 인플레이션 연산들은 **밑줄이 함수명 뒤에 붙어 있는 것**이 특징이다. "
   ]
  },
  {
   "cell_type": "code",
   "execution_count": 36,
   "id": "248d7050",
   "metadata": {},
   "outputs": [
    {
     "name": "stdout",
     "output_type": "stream",
     "text": [
      "tensor([[ 2.,  4.],\n",
      "        [ 9., 12.]])\n",
      "tensor([[ 4.,  8.],\n",
      "        [27., 36.]])\n",
      "tensor([[ 2.,  4.],\n",
      "        [ 9., 12.]])\n",
      "tensor([[ 4.,  8.],\n",
      "        [27., 36.]])\n",
      "tensor([[ 4.,  8.],\n",
      "        [27., 36.]])\n"
     ]
    }
   ],
   "source": [
    "print(a)\n",
    "print(a.mul(b)) #새로운 결과가 호출 \n",
    "print(a)\n",
    "print(a.mul_(b)) #a의 자리에 결과 호출 \n",
    "print(a)"
   ]
  },
  {
   "cell_type": "markdown",
   "id": "36416a85",
   "metadata": {},
   "source": [
    "## Sum , Mean (Dimension Reducing Operations) \n",
    "\n",
    "* 행렬 전체 요소의 합 or 평균 \n",
    "* sum() : 합 , mean() : 평균 \n",
    "* 행렬 요소 전체의 합이나 평균은 텐서나 행렬이 아닌 스칼라(scalar)값으로 저장되므로 차원이 축소된다. "
   ]
  },
  {
   "cell_type": "code",
   "execution_count": 37,
   "id": "89f35410",
   "metadata": {},
   "outputs": [],
   "source": [
    "x = torch.FloatTensor([[1,2],\n",
    "                      [3,4]])"
   ]
  },
  {
   "cell_type": "code",
   "execution_count": 39,
   "id": "92e16681",
   "metadata": {},
   "outputs": [
    {
     "name": "stdout",
     "output_type": "stream",
     "text": [
      "tensor(10.)\n",
      "tensor(2.5000)\n"
     ]
    }
   ],
   "source": [
    "print(x.sum())\n",
    "print(x.mean())"
   ]
  },
  {
   "cell_type": "code",
   "execution_count": 38,
   "id": "9011f812",
   "metadata": {},
   "outputs": [
    {
     "name": "stdout",
     "output_type": "stream",
     "text": [
      "tensor([4., 6.])\n",
      "tensor([3., 7.])\n"
     ]
    }
   ],
   "source": [
    "print(x.sum(dim =0))#행렬의 세로축에 대해서 합 연산 수행 \n",
    "print(x.sum(dim=-1)) #뒤에서 첫번째 차원의값(행렬의 가로축에 대해서 합 연산 수행)"
   ]
  },
  {
   "cell_type": "markdown",
   "id": "1bee832a",
   "metadata": {},
   "source": [
    "## BroadCast in Operations(브로드캐스트 연산) \n",
    "\n",
    "* **크기가 다른 텐서끼리 연산을 수행할 수 있다.**\n",
    "* 브로드캐스팅 규칙자체가 복잡하기 때문에 편리하겠지만, 실수가 발생하면 잘못된 결과를 초래할 수 있으므로 주의해야한다. \n",
    "* https://pytorch.org/docs/stable/notes/broadcasting.html"
   ]
  },
  {
   "cell_type": "code",
   "execution_count": 40,
   "id": "051f3ade",
   "metadata": {},
   "outputs": [
    {
     "name": "stdout",
     "output_type": "stream",
     "text": [
      "torch.Size([1, 2])\n",
      "torch.Size([1, 2])\n"
     ]
    }
   ],
   "source": [
    "x = torch.FloatTensor([[1,2]])\n",
    "y = torch.FloatTensor([[4,8]])\n",
    "\n",
    "print(x.size())\n",
    "print(y.size())"
   ]
  },
  {
   "cell_type": "code",
   "execution_count": 41,
   "id": "079cfd1c",
   "metadata": {},
   "outputs": [
    {
     "name": "stdout",
     "output_type": "stream",
     "text": [
      "tensor([[ 5., 10.]])\n"
     ]
    }
   ],
   "source": [
    "z = x+y\n",
    "print(z)"
   ]
  },
  {
   "cell_type": "code",
   "execution_count": 42,
   "id": "3aa11c46",
   "metadata": {},
   "outputs": [
    {
     "name": "stdout",
     "output_type": "stream",
     "text": [
      "torch.Size([1, 2])\n"
     ]
    }
   ],
   "source": [
    "print(z.size())"
   ]
  },
  {
   "cell_type": "markdown",
   "id": "f97e62d1",
   "metadata": {},
   "source": [
    "### Tensor + Scalr "
   ]
  },
  {
   "cell_type": "code",
   "execution_count": 43,
   "id": "6b0c31cf",
   "metadata": {},
   "outputs": [
    {
     "name": "stdout",
     "output_type": "stream",
     "text": [
      "torch.Size([2, 2])\n"
     ]
    }
   ],
   "source": [
    "x = torch.FloatTensor([[1,2],\n",
    "                     [3,4]])\n",
    "\n",
    "y = 1 \n",
    "\n",
    "print(x.size())"
   ]
  },
  {
   "cell_type": "code",
   "execution_count": 44,
   "id": "d26c927d",
   "metadata": {},
   "outputs": [
    {
     "name": "stdout",
     "output_type": "stream",
     "text": [
      "tensor([[2., 3.],\n",
      "        [4., 5.]])\n",
      "torch.Size([2, 2])\n"
     ]
    }
   ],
   "source": [
    "z = x +y \n",
    "print(z)\n",
    "print(z.size())"
   ]
  },
  {
   "cell_type": "markdown",
   "id": "8c2e0b89",
   "metadata": {},
   "source": [
    "### Tensor + Vector"
   ]
  },
  {
   "cell_type": "code",
   "execution_count": 45,
   "id": "32e91250",
   "metadata": {},
   "outputs": [
    {
     "name": "stdout",
     "output_type": "stream",
     "text": [
      "torch.Size([2, 2])\n",
      "torch.Size([2])\n"
     ]
    }
   ],
   "source": [
    "x = torch.FloatTensor([[1,2],\n",
    "                     [4,8]])\n",
    "\n",
    "y = torch.FloatTensor([3,5]) \n",
    "\n",
    "print(x.size())\n",
    "print(y.size())"
   ]
  },
  {
   "cell_type": "code",
   "execution_count": 46,
   "id": "60607500",
   "metadata": {},
   "outputs": [
    {
     "name": "stdout",
     "output_type": "stream",
     "text": [
      "tensor([[ 4.,  7.],\n",
      "        [ 7., 13.]])\n",
      "torch.Size([2, 2])\n"
     ]
    }
   ],
   "source": [
    "z = x +y \n",
    "print(z)\n",
    "print(z.size())"
   ]
  },
  {
   "cell_type": "code",
   "execution_count": 47,
   "id": "fe54351a",
   "metadata": {},
   "outputs": [
    {
     "name": "stdout",
     "output_type": "stream",
     "text": [
      "torch.Size([1, 1, 2])\n",
      "torch.Size([2])\n"
     ]
    }
   ],
   "source": [
    "x = torch.FloatTensor([[[1,2]]])\n",
    "\n",
    "y = torch.FloatTensor([3,5]) \n",
    "\n",
    "print(x.size())\n",
    "print(y.size())"
   ]
  },
  {
   "cell_type": "code",
   "execution_count": 48,
   "id": "adf97733",
   "metadata": {},
   "outputs": [
    {
     "name": "stdout",
     "output_type": "stream",
     "text": [
      "tensor([[[4., 7.]]])\n",
      "torch.Size([1, 1, 2])\n"
     ]
    }
   ],
   "source": [
    "z = x +y \n",
    "print(z)\n",
    "print(z.size())"
   ]
  },
  {
   "cell_type": "markdown",
   "id": "5c25a677",
   "metadata": {},
   "source": [
    "### Tensor + Tensor "
   ]
  },
  {
   "cell_type": "code",
   "execution_count": 49,
   "id": "e327b6b2",
   "metadata": {},
   "outputs": [
    {
     "name": "stdout",
     "output_type": "stream",
     "text": [
      "torch.Size([1, 2])\n",
      "torch.Size([2, 1])\n"
     ]
    }
   ],
   "source": [
    "x= torch.FloatTensor([[1,2]])\n",
    "y= torch.FloatTensor([[3],\n",
    "                     [5]])\n",
    "print(x.size())\n",
    "print(y.size())"
   ]
  },
  {
   "cell_type": "code",
   "execution_count": 50,
   "id": "1e732787",
   "metadata": {},
   "outputs": [
    {
     "name": "stdout",
     "output_type": "stream",
     "text": [
      "tensor([[4., 5.],\n",
      "        [6., 7.]])\n",
      "torch.Size([2, 2])\n"
     ]
    }
   ],
   "source": [
    "z = x + y \n",
    "print(z)\n",
    "print(z.size())"
   ]
  },
  {
   "cell_type": "markdown",
   "id": "62fa550f",
   "metadata": {},
   "source": [
    "### Failure Case"
   ]
  },
  {
   "cell_type": "code",
   "execution_count": 51,
   "id": "53303e6f",
   "metadata": {},
   "outputs": [
    {
     "name": "stdout",
     "output_type": "stream",
     "text": [
      "torch.Size([1, 2, 2])\n",
      "torch.Size([3, 3])\n"
     ]
    }
   ],
   "source": [
    "x = torch.FloatTensor([[[1,2],\n",
    "                       [3,4]]])\n",
    "y = torch.FloatTensor([[1,2,3],\n",
    "                      [4,5,6],\n",
    "                      [7,8,8]]) \n",
    "print(x.size())\n",
    "print(y.size())"
   ]
  },
  {
   "cell_type": "code",
   "execution_count": 52,
   "id": "6f0f89f2",
   "metadata": {},
   "outputs": [
    {
     "ename": "RuntimeError",
     "evalue": "The size of tensor a (2) must match the size of tensor b (3) at non-singleton dimension 2",
     "output_type": "error",
     "traceback": [
      "\u001b[1;31m---------------------------------------------------------------------------\u001b[0m",
      "\u001b[1;31mRuntimeError\u001b[0m                              Traceback (most recent call last)",
      "Cell \u001b[1;32mIn[52], line 2\u001b[0m\n\u001b[0;32m      1\u001b[0m \u001b[38;5;66;03m#브로드캐스트 연산이 안되는 경우\u001b[39;00m\n\u001b[1;32m----> 2\u001b[0m x\u001b[38;5;241m+\u001b[39my\n",
      "\u001b[1;31mRuntimeError\u001b[0m: The size of tensor a (2) must match the size of tensor b (3) at non-singleton dimension 2"
     ]
    }
   ],
   "source": [
    "#브로드캐스트 적용이 안되는 경우\n",
    "x+y"
   ]
  },
  {
   "cell_type": "markdown",
   "id": "0957ff70",
   "metadata": {},
   "source": [
    "# 3. Tensor Manipulations (텐서 형태 변환 )\n",
    "\n",
    "## reshape : Change Tensor Shape\n",
    "\n",
    "* 텐서의 전체 요소 개수는 유지한채 모양을 바꾸는 방법 \n",
    "* View함수, Squeeze함수, Unsqueeze함수 "
   ]
  },
  {
   "cell_type": "code",
   "execution_count": 53,
   "id": "5f75e53c",
   "metadata": {},
   "outputs": [
    {
     "name": "stdout",
     "output_type": "stream",
     "text": [
      "torch.Size([3, 2, 2])\n"
     ]
    }
   ],
   "source": [
    "x = torch.FloatTensor([[[1,2],\n",
    "                        [3,4]],\n",
    "                      [ [5,6],\n",
    "                        [7,8]],\n",
    "                      [ [9,10],\n",
    "                        [11,12]]])\n",
    "print(x.size())"
   ]
  },
  {
   "cell_type": "code",
   "execution_count": 54,
   "id": "000c2cc5",
   "metadata": {},
   "outputs": [
    {
     "name": "stdout",
     "output_type": "stream",
     "text": [
      "tensor([ 1.,  2.,  3.,  4.,  5.,  6.,  7.,  8.,  9., 10., 11., 12.])\n",
      "tensor([ 1.,  2.,  3.,  4.,  5.,  6.,  7.,  8.,  9., 10., 11., 12.])\n"
     ]
    }
   ],
   "source": [
    "#차원이 1인 벡터 만들기 \n",
    "print(x.reshape(12)) #12 = 3*2*2 \n",
    "print(x.reshape(-1))"
   ]
  },
  {
   "cell_type": "code",
   "execution_count": 55,
   "id": "da180420",
   "metadata": {},
   "outputs": [
    {
     "name": "stdout",
     "output_type": "stream",
     "text": [
      "tensor([[ 1.,  2.,  3.,  4.],\n",
      "        [ 5.,  6.,  7.,  8.],\n",
      "        [ 9., 10., 11., 12.]])\n",
      "tensor([[ 1.,  2.,  3.,  4.],\n",
      "        [ 5.,  6.,  7.,  8.],\n",
      "        [ 9., 10., 11., 12.]])\n"
     ]
    }
   ],
   "source": [
    "print(x.reshape(3,4)) #12 = 3*4 \n",
    "print(x.reshape(3,-1))"
   ]
  },
  {
   "cell_type": "code",
   "execution_count": 56,
   "id": "d47b76c2",
   "metadata": {},
   "outputs": [
    {
     "name": "stdout",
     "output_type": "stream",
     "text": [
      "tensor([[[ 1.,  2.,  3.,  4.]],\n",
      "\n",
      "        [[ 5.,  6.,  7.,  8.]],\n",
      "\n",
      "        [[ 9., 10., 11., 12.]]])\n",
      "tensor([[[ 1.,  2.,  3.,  4.]],\n",
      "\n",
      "        [[ 5.,  6.,  7.,  8.]],\n",
      "\n",
      "        [[ 9., 10., 11., 12.]]])\n"
     ]
    }
   ],
   "source": [
    "print(x.reshape(3,1,4)) #12 = 3*4 \n",
    "print(x.reshape(-1,1,4))"
   ]
  },
  {
   "cell_type": "code",
   "execution_count": 58,
   "id": "3fbe8966",
   "metadata": {},
   "outputs": [
    {
     "name": "stdout",
     "output_type": "stream",
     "text": [
      "tensor([[[[ 1.],\n",
      "          [ 2.]],\n",
      "\n",
      "         [[ 3.],\n",
      "          [ 4.]]],\n",
      "\n",
      "\n",
      "        [[[ 5.],\n",
      "          [ 6.]],\n",
      "\n",
      "         [[ 7.],\n",
      "          [ 8.]]],\n",
      "\n",
      "\n",
      "        [[[ 9.],\n",
      "          [10.]],\n",
      "\n",
      "         [[11.],\n",
      "          [12.]]]])\n"
     ]
    }
   ],
   "source": [
    "print(x.reshape(3,2,2,1))"
   ]
  },
  {
   "cell_type": "markdown",
   "id": "f3e0be1e",
   "metadata": {},
   "source": [
    "## View 함수 \n",
    "\n",
    "* **`contiguous + view = reshape`**\n",
    "* view 함수는 메모리에 순차대로 선언된 텐서 (contiguous 텐서)에 대해서만 동작한다. 만약 해당하지 않을 시 오류를 발생시킨다.\n",
    "* contiguous 함수는 텐서를 `새로운 메모리상의 인접한 주소에 인접한 값을 순서대로 할당`해주는 함수이다.\n",
    "* reshape는 view 함수와 동일하게 동작하되 contiguous 함수와 view 함수를 순차적으로 호출하는 것과 같다. \n",
    "* **view함수의 결과 텐서 주소는 바뀌지 않는다**"
   ]
  },
  {
   "cell_type": "code",
   "execution_count": 59,
   "id": "275714dd",
   "metadata": {},
   "outputs": [
    {
     "name": "stdout",
     "output_type": "stream",
     "text": [
      "torch.Size([3, 2, 2])\n"
     ]
    }
   ],
   "source": [
    "x = torch.FloatTensor([[[1,2],\n",
    "                        [3,4]],\n",
    "                      [ [5,6],\n",
    "                        [7,8]],\n",
    "                      [ [9,10],\n",
    "                        [11,12]]])\n",
    "print(x.size())"
   ]
  },
  {
   "cell_type": "code",
   "execution_count": 60,
   "id": "6e5d56ef",
   "metadata": {},
   "outputs": [
    {
     "name": "stdout",
     "output_type": "stream",
     "text": [
      "tensor([ 1.,  2.,  3.,  4.,  5.,  6.,  7.,  8.,  9., 10., 11., 12.])\n",
      "tensor([ 1.,  2.,  3.,  4.,  5.,  6.,  7.,  8.,  9., 10., 11., 12.])\n"
     ]
    }
   ],
   "source": [
    "#차원이 1인 벡터 만들기 \n",
    "print(x.view(12)) #12 = 3*2*2 \n",
    "print(x.view(-1))"
   ]
  },
  {
   "cell_type": "code",
   "execution_count": 61,
   "id": "0ac3ddc6",
   "metadata": {},
   "outputs": [
    {
     "name": "stdout",
     "output_type": "stream",
     "text": [
      "tensor([[ 1.,  2.,  3.,  4.],\n",
      "        [ 5.,  6.,  7.,  8.],\n",
      "        [ 9., 10., 11., 12.]])\n",
      "tensor([[ 1.,  2.,  3.,  4.],\n",
      "        [ 5.,  6.,  7.,  8.],\n",
      "        [ 9., 10., 11., 12.]])\n"
     ]
    }
   ],
   "source": [
    "print(x.view(3,4)) #12 = 3*4 \n",
    "print(x.view(3,-1))"
   ]
  },
  {
   "cell_type": "code",
   "execution_count": 62,
   "id": "8f6af718",
   "metadata": {},
   "outputs": [
    {
     "name": "stdout",
     "output_type": "stream",
     "text": [
      "tensor([[[ 1.,  2.,  3.,  4.]],\n",
      "\n",
      "        [[ 5.,  6.,  7.,  8.]],\n",
      "\n",
      "        [[ 9., 10., 11., 12.]]])\n",
      "tensor([[[ 1.,  2.,  3.,  4.]],\n",
      "\n",
      "        [[ 5.,  6.,  7.,  8.]],\n",
      "\n",
      "        [[ 9., 10., 11., 12.]]])\n"
     ]
    }
   ],
   "source": [
    "print(x.view(3,1,4)) #12 = 3*4 \n",
    "print(x.view(-1,1,4))"
   ]
  },
  {
   "cell_type": "markdown",
   "id": "89f2cea7",
   "metadata": {},
   "source": [
    "## Squeeze 함수 \n",
    "* 차원의 크기가 1인 차원을 없애주는 역할을 한다. "
   ]
  },
  {
   "cell_type": "code",
   "execution_count": 63,
   "id": "81e37dd9",
   "metadata": {},
   "outputs": [
    {
     "name": "stdout",
     "output_type": "stream",
     "text": [
      "torch.Size([1, 2, 2])\n"
     ]
    }
   ],
   "source": [
    "x = torch.FloatTensor([[[1,2],\n",
    "                       [3,4]]]) \n",
    "print(x.size())"
   ]
  },
  {
   "cell_type": "code",
   "execution_count": 64,
   "id": "4b1de125",
   "metadata": {},
   "outputs": [
    {
     "name": "stdout",
     "output_type": "stream",
     "text": [
      "tensor([[1., 2.],\n",
      "        [3., 4.]])\n",
      "torch.Size([2, 2])\n"
     ]
    }
   ],
   "source": [
    "print(x.squeeze())\n",
    "print(x.squeeze().size())"
   ]
  },
  {
   "cell_type": "code",
   "execution_count": 65,
   "id": "7a633905",
   "metadata": {},
   "outputs": [
    {
     "name": "stdout",
     "output_type": "stream",
     "text": [
      "torch.Size([2, 2])\n",
      "torch.Size([1, 2, 2])\n"
     ]
    }
   ],
   "source": [
    "#특정 dimension에 대해서 squeeze\n",
    "print(x.squeeze(0).size())\n",
    "print(x.squeeze(1).size())"
   ]
  },
  {
   "cell_type": "markdown",
   "id": "4987f56a",
   "metadata": {},
   "source": [
    "## Unsqueeze 함수 \n",
    "* 지정된 차원의 인덱스에 차원의 크기가 1인 차원을 삽입한다. \n",
    "* 어떤 dimension에 대해 1을 추가해줄 지 지정해줘야 한다. "
   ]
  },
  {
   "cell_type": "code",
   "execution_count": 66,
   "id": "b9deacab",
   "metadata": {},
   "outputs": [
    {
     "name": "stdout",
     "output_type": "stream",
     "text": [
      "torch.Size([2, 2])\n"
     ]
    }
   ],
   "source": [
    "x = torch.FloatTensor([[1,2],\n",
    "                       [3,4]]) \n",
    "print(x.size())"
   ]
  },
  {
   "cell_type": "code",
   "execution_count": 67,
   "id": "d03d8bf9",
   "metadata": {},
   "outputs": [
    {
     "name": "stdout",
     "output_type": "stream",
     "text": [
      "tensor([[[1.],\n",
      "         [2.]],\n",
      "\n",
      "        [[3.],\n",
      "         [4.]]])\n",
      "tensor([[[1.],\n",
      "         [2.]],\n",
      "\n",
      "        [[3.],\n",
      "         [4.]]])\n"
     ]
    }
   ],
   "source": [
    "print(x.unsqueeze(2))\n",
    "print(x.unsqueeze(-1))"
   ]
  },
  {
   "cell_type": "code",
   "execution_count": 69,
   "id": "1052d3fb",
   "metadata": {},
   "outputs": [
    {
     "name": "stdout",
     "output_type": "stream",
     "text": [
      "tensor([[[1.],\n",
      "         [2.]],\n",
      "\n",
      "        [[3.],\n",
      "         [4.]]])\n",
      "torch.Size([2, 2, 1])\n"
     ]
    }
   ],
   "source": [
    "print(x.reshape(2,2,-1))\n",
    "print(x.reshape(2,2,-1).size())"
   ]
  },
  {
   "cell_type": "markdown",
   "id": "f99d5e1c",
   "metadata": {},
   "source": [
    "# 4. PyTorch Tensor Slicing and Concatenation (텐서 자르기 & 붙이기) "
   ]
  },
  {
   "cell_type": "markdown",
   "id": "11aa681d",
   "metadata": {},
   "source": [
    "## 인덱싱과 슬라이스"
   ]
  },
  {
   "cell_type": "code",
   "execution_count": 4,
   "id": "6ac8721a",
   "metadata": {},
   "outputs": [
    {
     "name": "stdout",
     "output_type": "stream",
     "text": [
      "torch.Size([3, 2, 2])\n"
     ]
    }
   ],
   "source": [
    "x = torch.FloatTensor([[[1,2],\n",
    "                        [3,4]],\n",
    "                      [ [5,6],\n",
    "                        [7,8]],\n",
    "                      [ [9,10],\n",
    "                        [11,12]]])\n",
    "print(x.size())"
   ]
  },
  {
   "cell_type": "code",
   "execution_count": 5,
   "id": "ebcf5124",
   "metadata": {},
   "outputs": [
    {
     "name": "stdout",
     "output_type": "stream",
     "text": [
      "tensor([[1., 2.],\n",
      "        [3., 4.]])\n"
     ]
    }
   ],
   "source": [
    "print(x[0]) "
   ]
  },
  {
   "cell_type": "code",
   "execution_count": 6,
   "id": "c9e8ac7b",
   "metadata": {},
   "outputs": [
    {
     "name": "stdout",
     "output_type": "stream",
     "text": [
      "tensor([[ 9., 10.],\n",
      "        [11., 12.]])\n"
     ]
    }
   ],
   "source": [
    "print(x[-1])"
   ]
  },
  {
   "cell_type": "code",
   "execution_count": 8,
   "id": "ef93f81c",
   "metadata": {},
   "outputs": [
    {
     "name": "stdout",
     "output_type": "stream",
     "text": [
      "tensor([[ 1.,  2.],\n",
      "        [ 5.,  6.],\n",
      "        [ 9., 10.]])\n"
     ]
    }
   ],
   "source": [
    "print(x[:,0])"
   ]
  },
  {
   "cell_type": "markdown",
   "id": "c5d3f6f0",
   "metadata": {},
   "source": [
    "## Split 함수 \n",
    "* 텐서를 특정 차원에 대해서 `원하는 크기`로 잘라준다. "
   ]
  },
  {
   "cell_type": "code",
   "execution_count": 10,
   "id": "8e059da7",
   "metadata": {},
   "outputs": [
    {
     "data": {
      "text/plain": [
       "tensor([[0., 0., 0., 0.],\n",
       "        [0., 0., 0., 0.],\n",
       "        [0., 0., 0., 0.],\n",
       "        [0., 0., 0., 0.],\n",
       "        [0., 0., 0., 0.],\n",
       "        [0., 0., 0., 0.],\n",
       "        [0., 0., 0., 0.],\n",
       "        [0., 0., 0., 0.],\n",
       "        [0., 0., 0., 0.],\n",
       "        [0., 0., 0., 0.]])"
      ]
     },
     "execution_count": 10,
     "metadata": {},
     "output_type": "execute_result"
    }
   ],
   "source": [
    "x = torch.FloatTensor(10,4)\n",
    "x"
   ]
  },
  {
   "cell_type": "code",
   "execution_count": 11,
   "id": "7d14107c",
   "metadata": {},
   "outputs": [
    {
     "name": "stdout",
     "output_type": "stream",
     "text": [
      "torch.Size([4, 4])\n",
      "torch.Size([4, 4])\n",
      "torch.Size([2, 4])\n"
     ]
    }
   ],
   "source": [
    "splits = x.split(4 , dim = 0)\n",
    "\n",
    "for s in splits :\n",
    "    print(s.size())"
   ]
  },
  {
   "cell_type": "markdown",
   "id": "13535da7",
   "metadata": {},
   "source": [
    "## Chunk 함수\n",
    "* split함수는 개수에 상관없이 원하는 크기로 나눔 \n",
    "* chunk함수는 크기에 상관없이 `원하는 개수`로 나눔 "
   ]
  },
  {
   "cell_type": "code",
   "execution_count": 12,
   "id": "c1d25967",
   "metadata": {},
   "outputs": [
    {
     "data": {
      "text/plain": [
       "tensor([[0., 0., 0., 0.],\n",
       "        [0., 0., 0., 0.],\n",
       "        [0., 0., 0., 0.],\n",
       "        [0., 0., 0., 0.],\n",
       "        [0., 0., 0., 0.],\n",
       "        [0., 0., 0., 0.],\n",
       "        [0., 0., 0., 0.],\n",
       "        [0., 0., 0., 0.],\n",
       "        [0., 0., 0., 0.],\n",
       "        [0., 0., 0., 0.]])"
      ]
     },
     "execution_count": 12,
     "metadata": {},
     "output_type": "execute_result"
    }
   ],
   "source": [
    "x = torch.FloatTensor(10,4)\n",
    "x"
   ]
  },
  {
   "cell_type": "code",
   "execution_count": 13,
   "id": "0e796d06",
   "metadata": {},
   "outputs": [
    {
     "data": {
      "text/plain": [
       "(tensor([[0., 0., 0., 0.],\n",
       "         [0., 0., 0., 0.],\n",
       "         [0., 0., 0., 0.]]),\n",
       " tensor([[0., 0., 0., 0.],\n",
       "         [0., 0., 0., 0.],\n",
       "         [0., 0., 0., 0.]]),\n",
       " tensor([[0., 0., 0., 0.],\n",
       "         [0., 0., 0., 0.],\n",
       "         [0., 0., 0., 0.]]),\n",
       " tensor([[0., 0., 0., 0.]]))"
      ]
     },
     "execution_count": 13,
     "metadata": {},
     "output_type": "execute_result"
    }
   ],
   "source": [
    "#첫 번째 차원의 크기 10을 최대한 같은 크기로 4등분 \n",
    "# 3+3+3+1\n",
    "chunks = x.chunk(4, dim = 0) \n",
    "chunks"
   ]
  },
  {
   "cell_type": "code",
   "execution_count": 14,
   "id": "fde7a0d8",
   "metadata": {},
   "outputs": [
    {
     "name": "stdout",
     "output_type": "stream",
     "text": [
      "torch.Size([3, 4])\n",
      "torch.Size([3, 4])\n",
      "torch.Size([3, 4])\n",
      "torch.Size([1, 4])\n"
     ]
    }
   ],
   "source": [
    "for c in chunks :\n",
    "    print(c.size())"
   ]
  },
  {
   "cell_type": "markdown",
   "id": "873cac38",
   "metadata": {},
   "source": [
    "## Index Select \n",
    "* 특정 차원에서 원하는 인덱스의 값만 취하는 함수 "
   ]
  },
  {
   "cell_type": "code",
   "execution_count": 17,
   "id": "86fe95e8",
   "metadata": {},
   "outputs": [
    {
     "name": "stdout",
     "output_type": "stream",
     "text": [
      "torch.Size([3, 2, 2])\n"
     ]
    }
   ],
   "source": [
    "x = torch.FloatTensor([[[1,1],\n",
    "                        [2,2]],\n",
    "                      [[3,3],\n",
    "                        [4,4]],\n",
    "                      [[5,5],\n",
    "                        [6,6]]])\n",
    "print(x.size())"
   ]
  },
  {
   "cell_type": "code",
   "execution_count": 20,
   "id": "c915c43c",
   "metadata": {},
   "outputs": [
    {
     "name": "stdout",
     "output_type": "stream",
     "text": [
      "torch.Size([2, 2, 2])\n",
      "tensor([[[5., 5.],\n",
      "         [6., 6.]],\n",
      "\n",
      "        [[3., 3.],\n",
      "         [4., 4.]]])\n"
     ]
    }
   ],
   "source": [
    "indice = torch.LongTensor([2,1])\n",
    "y = x.index_select(dim = 0 , index = indice) \n",
    "print(y.size())\n",
    "print(y)"
   ]
  },
  {
   "cell_type": "markdown",
   "id": "86800720",
   "metadata": {},
   "source": [
    "## Concatenate 함수\n",
    "* 여러 텐서를 합쳐서 하나의 텐서로 만드는 방법 \n",
    "* 배열(리스트) 내의 두 개 이상의 텐서를 순서대로 합쳐서 하나의 텐서로 반환 \n",
    "* 합쳐지기 위해서는 `다른 차원들의 크기가 동일`해야합니다. "
   ]
  },
  {
   "cell_type": "code",
   "execution_count": 21,
   "id": "d19b3bd2",
   "metadata": {},
   "outputs": [
    {
     "name": "stdout",
     "output_type": "stream",
     "text": [
      "torch.Size([3, 3]) torch.Size([3, 3])\n"
     ]
    }
   ],
   "source": [
    "x = torch.FloatTensor([[1,2,3],\n",
    "                      [4,5,6],\n",
    "                      [7,8,9]])\n",
    "y = torch.FloatTensor([[10,11,12],\n",
    "                      [13,14,15],\n",
    "                      [16,17,18]])\n",
    "\n",
    "print(x.size() , y.size())"
   ]
  },
  {
   "cell_type": "code",
   "execution_count": 22,
   "id": "1ab74666",
   "metadata": {},
   "outputs": [
    {
     "name": "stdout",
     "output_type": "stream",
     "text": [
      "tensor([[ 1.,  2.,  3.],\n",
      "        [ 4.,  5.,  6.],\n",
      "        [ 7.,  8.,  9.],\n",
      "        [10., 11., 12.],\n",
      "        [13., 14., 15.],\n",
      "        [16., 17., 18.]])\n"
     ]
    }
   ],
   "source": [
    "z = torch.cat([x,y] , dim = 0)\n",
    "print(z)"
   ]
  },
  {
   "cell_type": "code",
   "execution_count": 23,
   "id": "6a50bcb6",
   "metadata": {},
   "outputs": [
    {
     "name": "stdout",
     "output_type": "stream",
     "text": [
      "torch.Size([6, 3])\n"
     ]
    }
   ],
   "source": [
    "print(z.size())"
   ]
  },
  {
   "cell_type": "code",
   "execution_count": 24,
   "id": "3ff488b9",
   "metadata": {},
   "outputs": [
    {
     "name": "stdout",
     "output_type": "stream",
     "text": [
      "tensor([[ 1.,  2.,  3., 10., 11., 12.],\n",
      "        [ 4.,  5.,  6., 13., 14., 15.],\n",
      "        [ 7.,  8.,  9., 16., 17., 18.]])\n"
     ]
    }
   ],
   "source": [
    "z = torch.cat([x,y] , dim = -1)\n",
    "print(z)"
   ]
  },
  {
   "cell_type": "code",
   "execution_count": 25,
   "id": "3b7bb60e",
   "metadata": {},
   "outputs": [
    {
     "name": "stdout",
     "output_type": "stream",
     "text": [
      "torch.Size([3, 6])\n"
     ]
    }
   ],
   "source": [
    "print(z.size())"
   ]
  },
  {
   "cell_type": "markdown",
   "id": "e67a44d5",
   "metadata": {},
   "source": [
    "## Stack 함수\n",
    "* concat과 같이 이어붙이는 것이 아닌, `쌓는 방법`이다.\n"
   ]
  },
  {
   "cell_type": "code",
   "execution_count": 26,
   "id": "7a462318",
   "metadata": {},
   "outputs": [
    {
     "name": "stdout",
     "output_type": "stream",
     "text": [
      "tensor([[[ 1.,  2.,  3.],\n",
      "         [ 4.,  5.,  6.],\n",
      "         [ 7.,  8.,  9.]],\n",
      "\n",
      "        [[10., 11., 12.],\n",
      "         [13., 14., 15.],\n",
      "         [16., 17., 18.]]])\n"
     ]
    }
   ],
   "source": [
    "z = torch.stack([x,y])\n",
    "print(z)"
   ]
  },
  {
   "cell_type": "code",
   "execution_count": 27,
   "id": "6b09754e",
   "metadata": {},
   "outputs": [
    {
     "name": "stdout",
     "output_type": "stream",
     "text": [
      "torch.Size([2, 3, 3])\n"
     ]
    }
   ],
   "source": [
    "print(z.size())"
   ]
  },
  {
   "cell_type": "code",
   "execution_count": 28,
   "id": "b1d6d103",
   "metadata": {},
   "outputs": [
    {
     "name": "stdout",
     "output_type": "stream",
     "text": [
      "tensor([[[ 1.,  2.,  3.],\n",
      "         [ 4.,  5.,  6.],\n",
      "         [ 7.,  8.,  9.]],\n",
      "\n",
      "        [[10., 11., 12.],\n",
      "         [13., 14., 15.],\n",
      "         [16., 17., 18.]]])\n"
     ]
    }
   ],
   "source": [
    "#unsqueeze + concat = stack \n",
    "z = torch.cat([x.unsqueeze(0),y.unsqueeze(0)] , dim = 0 )\n",
    "print(z)"
   ]
  },
  {
   "cell_type": "markdown",
   "id": "79eda4bf",
   "metadata": {},
   "source": [
    "## 유용한 팁 : Merge results from iterations "
   ]
  },
  {
   "cell_type": "code",
   "execution_count": 31,
   "id": "19d58ea1",
   "metadata": {},
   "outputs": [
    {
     "data": {
      "text/plain": [
       "torch.Size([5, 2, 2])"
      ]
     },
     "execution_count": 31,
     "metadata": {},
     "output_type": "execute_result"
    }
   ],
   "source": [
    "result = []\n",
    "\n",
    "for i in range(5) :\n",
    "    x  = torch.FloatTensor(2,2)\n",
    "    result += [x] \n",
    "    \n",
    "result = torch.stack(result)\n",
    "result.size()"
   ]
  },
  {
   "cell_type": "markdown",
   "id": "727a00e8",
   "metadata": {},
   "source": [
    "# 5. Pytorch Useful Methods"
   ]
  },
  {
   "cell_type": "markdown",
   "id": "76485602",
   "metadata": {},
   "source": [
    "## expand 함수 \n",
    "* 차원의 크기가 1인 차원을 원하는 크기로 늘려주는 역할 수행 \n",
    "* 동일한 텐서를 그냥 반복하여 리스트에 넣고 cat 함수를 해당 차원에 대해서 수행하는 것과 동일 "
   ]
  },
  {
   "cell_type": "code",
   "execution_count": 36,
   "id": "0bfd2eef",
   "metadata": {},
   "outputs": [
    {
     "name": "stdout",
     "output_type": "stream",
     "text": [
      "torch.Size([2, 1, 2])\n",
      "tensor([[[1., 2.]],\n",
      "\n",
      "        [[3., 4.]]])\n"
     ]
    }
   ],
   "source": [
    "x = torch.FloatTensor([[[1,2]],\n",
    "                       [[3,4]]])\n",
    "print(x.size())\n",
    "print(x)"
   ]
  },
  {
   "cell_type": "code",
   "execution_count": 35,
   "id": "ea986381",
   "metadata": {},
   "outputs": [
    {
     "name": "stdout",
     "output_type": "stream",
     "text": [
      "torch.Size([2, 3, 2])\n",
      "tensor([[[1., 2.],\n",
      "         [1., 2.],\n",
      "         [1., 2.]],\n",
      "\n",
      "        [[3., 4.],\n",
      "         [3., 4.],\n",
      "         [3., 4.]]])\n"
     ]
    }
   ],
   "source": [
    "#두번째 차원을 3으로 늘리기 \n",
    "y = x.expand(2,3,2)\n",
    "print(y.size())\n",
    "print(y)"
   ]
  },
  {
   "cell_type": "code",
   "execution_count": 38,
   "id": "806d8c91",
   "metadata": {},
   "outputs": [
    {
     "name": "stdout",
     "output_type": "stream",
     "text": [
      "tensor([[[1., 2.],\n",
      "         [1., 2.],\n",
      "         [1., 2.]],\n",
      "\n",
      "        [[3., 4.],\n",
      "         [3., 4.],\n",
      "         [3., 4.]]])\n"
     ]
    }
   ],
   "source": [
    "y = torch.cat([x] * 3 , dim = 1)\n",
    "print(y)"
   ]
  },
  {
   "cell_type": "markdown",
   "id": "8dee0d2c",
   "metadata": {},
   "source": [
    "### Random Permutation 함수 \n",
    "* 랜덤 수열을 생성하는 파이토치 함수이다. \n",
    "* reandomperm => 1부터 해당 숫자까지 정수를 임의의 순서로 텐서 반환 "
   ]
  },
  {
   "cell_type": "code",
   "execution_count": 40,
   "id": "2fea6e3e",
   "metadata": {},
   "outputs": [
    {
     "name": "stdout",
     "output_type": "stream",
     "text": [
      "tensor([6, 4, 1, 7, 9, 2, 8, 3, 5, 0])\n",
      "torch.Size([10])\n"
     ]
    }
   ],
   "source": [
    "x = torch.randperm(10)\n",
    "print(x)\n",
    "print(x.size())"
   ]
  },
  {
   "cell_type": "markdown",
   "id": "94edea4e",
   "metadata": {},
   "source": [
    "### Argument Max 함수 => Argmax  \n",
    "* 값을 최대로 만드는 값의 인덱스를 반환 "
   ]
  },
  {
   "cell_type": "code",
   "execution_count": 41,
   "id": "eea2bcb4",
   "metadata": {},
   "outputs": [
    {
     "name": "stdout",
     "output_type": "stream",
     "text": [
      "tensor([[[ 3, 25, 26],\n",
      "         [11,  0, 12],\n",
      "         [15, 13,  9]],\n",
      "\n",
      "        [[ 2,  1, 22],\n",
      "         [ 6, 17, 16],\n",
      "         [ 5, 14, 24]],\n",
      "\n",
      "        [[23, 10, 21],\n",
      "         [19, 20, 18],\n",
      "         [ 4,  7,  8]]])\n",
      "torch.Size([3, 3, 3])\n"
     ]
    }
   ],
   "source": [
    "x = torch.randperm(3**3).reshape(3,3,-1) \n",
    "\n",
    "print(x)\n",
    "print(x.size())"
   ]
  },
  {
   "cell_type": "code",
   "execution_count": 42,
   "id": "a803c764",
   "metadata": {},
   "outputs": [
    {
     "name": "stdout",
     "output_type": "stream",
     "text": [
      "tensor([[2, 2, 0],\n",
      "        [2, 1, 2],\n",
      "        [0, 1, 2]])\n"
     ]
    }
   ],
   "source": [
    "y = x.argmax(dim = -1)\n",
    "print(y)"
   ]
  },
  {
   "cell_type": "code",
   "execution_count": 49,
   "id": "bdcbeaa6",
   "metadata": {},
   "outputs": [
    {
     "name": "stdout",
     "output_type": "stream",
     "text": [
      "torch.Size([3, 3])\n"
     ]
    }
   ],
   "source": [
    "print(y.size())"
   ]
  },
  {
   "cell_type": "markdown",
   "id": "92e93b6d",
   "metadata": {},
   "source": [
    "### Top-K함수\n",
    "* 가장 큰 k개의 값과 인덱스를 모두 반환 \n",
    "* argmax와 달리 차원이 살아있음 (상위 n개를 지정할 수 있기 때문에) \n",
    "* 따라서 topk에서 k가 1일 때, squeeze 한 것과 argmax 결과는 동일함. \n"
   ]
  },
  {
   "cell_type": "code",
   "execution_count": 46,
   "id": "dcde8e01",
   "metadata": {},
   "outputs": [
    {
     "name": "stdout",
     "output_type": "stream",
     "text": [
      "torch.Size([3, 3, 1])\n",
      "torch.Size([3, 3, 1])\n"
     ]
    }
   ],
   "source": [
    "values , indices = torch.topk(x , k=1, dim = -1)\n",
    "print(values.size())\n",
    "print(indices.size())"
   ]
  },
  {
   "cell_type": "code",
   "execution_count": 47,
   "id": "ef26015b",
   "metadata": {},
   "outputs": [
    {
     "name": "stdout",
     "output_type": "stream",
     "text": [
      "tensor([[26, 12, 15],\n",
      "        [22, 17, 24],\n",
      "        [23, 20,  8]])\n",
      "tensor([[2, 2, 0],\n",
      "        [2, 1, 2],\n",
      "        [0, 1, 2]])\n"
     ]
    }
   ],
   "source": [
    "print(values.squeeze(-1))\n",
    "print(indices.squeeze(-1))"
   ]
  },
  {
   "cell_type": "code",
   "execution_count": 48,
   "id": "cd0e9cbd",
   "metadata": {},
   "outputs": [
    {
     "name": "stdout",
     "output_type": "stream",
     "text": [
      "tensor([[True, True, True],\n",
      "        [True, True, True],\n",
      "        [True, True, True]])\n"
     ]
    }
   ],
   "source": [
    "print(x.argmax(dim=-1) == indices.squeeze(-1))"
   ]
  },
  {
   "cell_type": "code",
   "execution_count": 50,
   "id": "6a86596d",
   "metadata": {},
   "outputs": [
    {
     "name": "stdout",
     "output_type": "stream",
     "text": [
      "torch.Size([3, 3, 2])\n",
      "tensor([[True, True, True],\n",
      "        [True, True, True],\n",
      "        [True, True, True]])\n"
     ]
    }
   ],
   "source": [
    "_ , indices = torch.topk(x , k=2 , dim = -1)\n",
    "print(indices.size())\n",
    "print(x.argmax(dim =-1) == indices[:,:,0])"
   ]
  },
  {
   "cell_type": "markdown",
   "id": "87257ecd",
   "metadata": {},
   "source": [
    "### Topk 로 Sort 구현하기 "
   ]
  },
  {
   "cell_type": "code",
   "execution_count": 51,
   "id": "f1d826c1",
   "metadata": {},
   "outputs": [
    {
     "name": "stdout",
     "output_type": "stream",
     "text": [
      "tensor([[[26, 25,  3],\n",
      "         [12, 11,  0],\n",
      "         [15, 13,  9]],\n",
      "\n",
      "        [[22,  2,  1],\n",
      "         [17, 16,  6],\n",
      "         [24, 14,  5]],\n",
      "\n",
      "        [[23, 21, 10],\n",
      "         [20, 19, 18],\n",
      "         [ 8,  7,  4]]])\n"
     ]
    }
   ],
   "source": [
    "#내림차순 정렬 \n",
    "target_dim= -1\n",
    "values, indices = torch.topk(x , \n",
    "                            k = x.size(target_dim) ,\n",
    "                            largest = True)\n",
    "print(values)"
   ]
  },
  {
   "cell_type": "markdown",
   "id": "425cdf89",
   "metadata": {},
   "source": [
    "### Sort로 Topk 구현하기 "
   ]
  },
  {
   "cell_type": "code",
   "execution_count": 52,
   "id": "1dc4e9a1",
   "metadata": {},
   "outputs": [
    {
     "name": "stdout",
     "output_type": "stream",
     "text": [
      "tensor([[26, 12, 15],\n",
      "        [22, 17, 24],\n",
      "        [23, 20,  8]])\n",
      "tensor([[1, 0, 1],\n",
      "        [0, 2, 1],\n",
      "        [2, 0, 1]])\n"
     ]
    }
   ],
   "source": [
    "k = 1 \n",
    "values, indices = torch.sort(x , dim =-1 , descending = True)\n",
    "values , indices = values[:,:,:k], indices[:,:,k]\n",
    "\n",
    "print(values.squeeze(-1))\n",
    "print(indices.squeeze(-1))"
   ]
  },
  {
   "cell_type": "markdown",
   "id": "c3506a5b",
   "metadata": {},
   "source": [
    "### Masked Fill 함수 \n",
    "* 텐서 내 원하는 부분을 특정 값으로 바꿔치기하는 함수 \n",
    "* \"마스킹이 된 곳에 채워넣어라\" "
   ]
  },
  {
   "cell_type": "code",
   "execution_count": 53,
   "id": "5d11a1ed",
   "metadata": {},
   "outputs": [
    {
     "name": "stdout",
     "output_type": "stream",
     "text": [
      "tensor([[0., 1., 2.],\n",
      "        [3., 4., 5.],\n",
      "        [6., 7., 8.]])\n"
     ]
    }
   ],
   "source": [
    "x = torch.FloatTensor([i for i in range(3**2)]).reshape(3,-1)\n",
    "print(x)"
   ]
  },
  {
   "cell_type": "code",
   "execution_count": 54,
   "id": "45b08443",
   "metadata": {},
   "outputs": [
    {
     "name": "stdout",
     "output_type": "stream",
     "text": [
      "torch.Size([3, 3])\n"
     ]
    }
   ],
   "source": [
    "print(x.size())"
   ]
  },
  {
   "cell_type": "code",
   "execution_count": 55,
   "id": "a38588a8",
   "metadata": {},
   "outputs": [
    {
     "name": "stdout",
     "output_type": "stream",
     "text": [
      "tensor([[False, False, False],\n",
      "        [False, False,  True],\n",
      "        [ True,  True,  True]])\n"
     ]
    }
   ],
   "source": [
    "mask = x > 4 \n",
    "print(mask)"
   ]
  },
  {
   "cell_type": "code",
   "execution_count": 56,
   "id": "f1ba1137",
   "metadata": {},
   "outputs": [
    {
     "name": "stdout",
     "output_type": "stream",
     "text": [
      "tensor([[ 0.,  1.,  2.],\n",
      "        [ 3.,  4., -1.],\n",
      "        [-1., -1., -1.]])\n"
     ]
    }
   ],
   "source": [
    "# 4보다 큰 값을 갖는 요소들을 value 값으로 치환해라 \n",
    "y = x.masked_fill(mask , value = -1)\n",
    "print(y)"
   ]
  },
  {
   "cell_type": "markdown",
   "id": "aa68cda0",
   "metadata": {},
   "source": [
    "### Ones & Zeros 함수 \n",
    "\n",
    "* 상숫값으로 된 텐서 만들기 \n",
    "* Ones : 1로 채워진 텐서  \n",
    "* Zeros : 0으로 채워진 텐서 "
   ]
  },
  {
   "cell_type": "code",
   "execution_count": 57,
   "id": "7d288e8d",
   "metadata": {},
   "outputs": [
    {
     "name": "stdout",
     "output_type": "stream",
     "text": [
      "tensor([[1., 1., 1.],\n",
      "        [1., 1., 1.]])\n"
     ]
    }
   ],
   "source": [
    "print(torch.ones(2,3))"
   ]
  },
  {
   "cell_type": "code",
   "execution_count": 58,
   "id": "b218e96d",
   "metadata": {},
   "outputs": [
    {
     "name": "stdout",
     "output_type": "stream",
     "text": [
      "tensor([[0., 0., 0.],\n",
      "        [0., 0., 0.]])\n"
     ]
    }
   ],
   "source": [
    "print(torch.zeros(2,3))"
   ]
  },
  {
   "cell_type": "code",
   "execution_count": 59,
   "id": "c02210af",
   "metadata": {},
   "outputs": [
    {
     "name": "stdout",
     "output_type": "stream",
     "text": [
      "torch.Size([2, 3])\n"
     ]
    }
   ],
   "source": [
    "x =torch.FloatTensor([[1,2,3],\n",
    "                     [4,5,6]]) \n",
    "\n",
    "print(x.size())"
   ]
  },
  {
   "cell_type": "code",
   "execution_count": 60,
   "id": "a3102236",
   "metadata": {},
   "outputs": [
    {
     "name": "stdout",
     "output_type": "stream",
     "text": [
      "tensor([[1., 1., 1.],\n",
      "        [1., 1., 1.]])\n",
      "tensor([[0., 0., 0.],\n",
      "        [0., 0., 0.]])\n"
     ]
    }
   ],
   "source": [
    "print(torch.ones_like(x))\n",
    "print(torch.zeros_like(x))"
   ]
  },

 ],
 "metadata": {
  "kernelspec": {
   "display_name": "Python 3 (ipykernel)",
   "language": "python",
   "name": "python3"
  },
  "language_info": {
   "codemirror_mode": {
    "name": "ipython",
    "version": 3
   },
   "file_extension": ".py",
   "mimetype": "text/x-python",
   "name": "python",
   "nbconvert_exporter": "python",
   "pygments_lexer": "ipython3",
   "version": "3.11.5"
  }
 },
 "nbformat": 4,
 "nbformat_minor": 5
}
