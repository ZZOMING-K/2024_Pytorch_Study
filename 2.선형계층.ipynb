{
  "cells": [
    {
      "cell_type": "markdown",
      "id": "af3cce34",
      "metadata": {
        "id": "af3cce34"
      },
      "source": [
        " # 1. 행렬 곱 , Matrix Multiplication\n",
        "\n",
        " * 행렬 A와 B를 곱한다고 하자.\n",
        " * 행렬 요소 = 곱셈의 앞 행렬 A의 행 요소들을 행렬 B의 열의 요소들에 각각 곱한 후 더한 값\n",
        " * 따라서, **A의 열의 개수 = B의 행의 개수**\n",
        " * 행렬의 곱셈 과정 → Inner Product(내적), Dot Product(닷 프로덕트) 라고 부른다.  "
      ]
    },
    {
      "cell_type": "code",
      "execution_count": 19,
      "id": "580269e3",
      "metadata": {
        "id": "580269e3"
      },
      "outputs": [],
      "source": [
        "import torch\n",
        "import torch.nn as nn"
      ]
    },
    {
      "cell_type": "code",
      "execution_count": 29,
      "id": "b8da71ec",
      "metadata": {
        "colab": {
          "base_uri": "https://localhost:8080/"
        },
        "id": "b8da71ec",
        "outputId": "497e9b2a-8852-4234-b8b0-6b2bdd8aec35"
      },
      "outputs": [
        {
          "output_type": "stream",
          "name": "stdout",
          "text": [
            "torch.Size([3, 2]) torch.Size([2, 2])\n"
          ]
        }
      ],
      "source": [
        "x = torch.FloatTensor([[1,2],\n",
        "                      [3,4],\n",
        "                      [5,6]])\n",
        "\n",
        "y = torch.FloatTensor([[1,2],\n",
        "                      [1,2]])\n",
        "\n",
        "print(x.size() , y.size())"
      ]
    },
    {
      "cell_type": "code",
      "execution_count": 30,
      "id": "ee168888",
      "metadata": {
        "colab": {
          "base_uri": "https://localhost:8080/"
        },
        "id": "ee168888",
        "outputId": "739acc71-575c-49f9-da34-e4ab1fe52478"
      },
      "outputs": [
        {
          "output_type": "stream",
          "name": "stdout",
          "text": [
            "torch.Size([3, 2])\n"
          ]
        }
      ],
      "source": [
        "z = torch.matmul(x,y)\n",
        "print(z.size())"
      ]
    },
    {
      "cell_type": "code",
      "execution_count": 31,
      "id": "6ab89c38",
      "metadata": {
        "colab": {
          "base_uri": "https://localhost:8080/"
        },
        "id": "6ab89c38",
        "outputId": "1d83b0b4-358b-40f4-9fff-397a7320a8d3"
      },
      "outputs": [
        {
          "output_type": "stream",
          "name": "stdout",
          "text": [
            "tensor([[ 3.,  6.],\n",
            "        [ 7., 14.],\n",
            "        [11., 22.]])\n"
          ]
        }
      ],
      "source": [
        "print(z)"
      ]
    },
    {
      "cell_type": "markdown",
      "id": "accff2d4",
      "metadata": {
        "id": "accff2d4"
      },
      "source": [
        "## 배치행렬곱, Batch Matrix Multiplication (BMM)\n",
        "* 같은 갯수의 행렬 쌍들에 대해서 병렬로 행렬 곱 실행"
      ]
    },
    {
      "cell_type": "code",
      "execution_count": 32,
      "id": "99abb0a6",
      "metadata": {
        "colab": {
          "base_uri": "https://localhost:8080/"
        },
        "id": "99abb0a6",
        "outputId": "359f10dc-c0d2-4919-84f1-b1e68d5bed59"
      },
      "outputs": [
        {
          "output_type": "stream",
          "name": "stdout",
          "text": [
            "torch.Size([3, 3, 3])\n"
          ]
        }
      ],
      "source": [
        "x = torch.FloatTensor(3,3,2)\n",
        "y = torch.FloatTensor(3,2,3)\n",
        "\n",
        "z = torch.bmm(x,y)\n",
        "print(z.size())"
      ]
    },
    {
      "cell_type": "markdown",
      "id": "a0ba214e",
      "metadata": {
        "id": "a0ba214e"
      },
      "source": [
        "# 2.선형 계층, Linear Layer\n",
        "* `심층 신경망의 가장 기본 구성 요소`\n",
        "* Fully-Connected(FC) Layer 라고 불리기도 함\n",
        "* 내부 가중치 파라미터(weight parameter) W와 b에 의해서 정의된다.\n",
        "\n",
        "### Linear Layer 작동방식\n",
        "\n",
        "* 각 입력 노드들에 `Weight(가중치)`를 곱하고 모두 합친 뒤, `bias(편향)`을 더한다.  \n",
        "\n",
        "### Equations\n",
        "* 행렬 곱으로 구현 가능\n",
        "* n차원에서 m차원으로의 선형 변환 함수"
      ]
    },
    {
      "cell_type": "markdown",
      "id": "0a4ab1e1",
      "metadata": {
        "id": "0a4ab1e1"
      },
      "source": [
        "## Raw Linear Layer\n",
        "\n",
        "$$\\begin{gathered}\n",
        "y=x\\cdot{W}+b, \\\\\n",
        "\\text{where }x\\in\\mathbb{R}^{N\\times{n}}\\text{, }y\\in\\mathbb{R}^{N\\times{m}}. \\\\\n",
        "\\\\\n",
        "\\text{Thus, }W\\in\\mathbb{R}^{n\\times{m}}\\text{ and }b\\in\\mathbb{R}^m.\n",
        "\\end{gathered}$$"
      ]
    },
    {
      "cell_type": "code",
      "execution_count": 36,
      "id": "46546e82",
      "metadata": {
        "colab": {
          "base_uri": "https://localhost:8080/"
        },
        "id": "46546e82",
        "outputId": "0b202489-3ac1-47b0-8ad3-7a614c50a26d"
      },
      "outputs": [
        {
          "output_type": "stream",
          "name": "stdout",
          "text": [
            "torch.Size([3, 2]) torch.Size([2])\n"
          ]
        }
      ],
      "source": [
        "W= torch.FloatTensor([[1,2],\n",
        "                     [3,4],\n",
        "                     [5,6]])\n",
        "b = torch.FloatTensor([2,2])\n",
        "print(W.size() , b.size())"
      ]
    },
    {
      "cell_type": "code",
      "execution_count": 37,
      "id": "926714cc",
      "metadata": {
        "id": "926714cc"
      },
      "outputs": [],
      "source": [
        "def linear(x, W, b) :\n",
        "    y = torch.matmul(x,W) + b\n",
        "    return y"
      ]
    },
    {
      "cell_type": "code",
      "execution_count": 38,
      "id": "34da653d",
      "metadata": {
        "colab": {
          "base_uri": "https://localhost:8080/"
        },
        "id": "34da653d",
        "outputId": "117c5ee6-e649-4875-f483-adeecb9a3b67"
      },
      "outputs": [
        {
          "output_type": "stream",
          "name": "stdout",
          "text": [
            "tensor([[0.0000e+00, 1.8609e+34, 7.7052e+31],\n",
            "        [7.2148e+22, 1.5766e-19, 1.0256e-08],\n",
            "        [6.5631e-07, 3.1643e+12, 2.7096e-09],\n",
            "        [2.5644e-09, 2.6408e-06, 1.2539e+16]])\n"
          ]
        }
      ],
      "source": [
        "x = torch.FloatTensor(4,3)\n",
        "print(x)"
      ]
    },
    {
      "cell_type": "code",
      "execution_count": 39,
      "id": "72808d26",
      "metadata": {
        "colab": {
          "base_uri": "https://localhost:8080/"
        },
        "id": "72808d26",
        "outputId": "3bea5f32-bf81-4ff7-9a59-c9da65786cb8"
      },
      "outputs": [
        {
          "output_type": "stream",
          "name": "stdout",
          "text": [
            "torch.Size([4, 2])\n"
          ]
        }
      ],
      "source": [
        "y = linear(x,W,b)\n",
        "print(y.size())"
      ]
    },
    {
      "cell_type": "markdown",
      "id": "a7ea0b16",
      "metadata": {
        "id": "a7ea0b16"
      },
      "source": [
        "## nn.Module"
      ]
    },
    {
      "cell_type": "code",
      "execution_count": 40,
      "id": "7ada7cda",
      "metadata": {
        "id": "7ada7cda"
      },
      "outputs": [],
      "source": [
        "import torch.nn as nn"
      ]
    },
    {
      "cell_type": "code",
      "execution_count": 41,
      "id": "0e6b6d02",
      "metadata": {
        "id": "0e6b6d02"
      },
      "outputs": [],
      "source": [
        "class MyLinear(nn.Module) :\n",
        "    def __init__(self, input_dim =3 , output_dim = 2) :\n",
        "        self.input_dim = input_dim\n",
        "        self.ouput_dim = output_dim\n",
        "\n",
        "        super().__init__()\n",
        "\n",
        "        self.W = torch.FloatTensor(input_dim , output_dim)\n",
        "        self.b = torch.FloatTensor(output_dim)\n",
        "\n",
        "    def forward(self, x) :\n",
        "        # |x| = (batch_size , input_dim)\n",
        "        y = torch.matmul(x, self.W) + self.b\n",
        "        #|y| = (batch_size , input_dim) * (input_dim ,output_dim)\n",
        "        #    = (batch_size , output_dim)\n",
        "        return y"
      ]
    },
    {
      "cell_type": "code",
      "execution_count": 42,
      "id": "05e41a21",
      "metadata": {
        "id": "05e41a21"
      },
      "outputs": [],
      "source": [
        "linear = MyLinear(3,2)\n",
        "y = linear(x)"
      ]
    },
    {
      "cell_type": "code",
      "execution_count": 43,
      "id": "f868c17f",
      "metadata": {
        "id": "f868c17f"
      },
      "outputs": [],
      "source": [
        "for p in linear.parameters() :\n",
        "    print(p)"
      ]
    },
    {
      "cell_type": "markdown",
      "id": "7a8a8586",
      "metadata": {
        "id": "7a8a8586"
      },
      "source": [
        "* nn.Module의 상속받는 객체는 __call__함수와 forward가 매핑되어 있어서 forward를 직접 부를 필요가 없다.\n",
        "\n",
        "* nn.Module을 상속받은 선형 계층은 내부에 학습할 수 있는 파라미터는 없는 것으로 인식하기 때문에 위의 코드를 입력하면 아무것도 출력하지 않는다.\n",
        "\n",
        "* W와 b를 파이토치에서 학습이 가능하도록 인식할 수 있는 파라미터를 만들어야함 -> `torch.nn.Parameter`\n"
      ]
    },
    {
      "cell_type": "markdown",
      "id": "5b5e7261",
      "metadata": {
        "id": "5b5e7261"
      },
      "source": [
        "## Correct way : nn.Parameter"
      ]
    },
    {
      "cell_type": "code",
      "execution_count": 44,
      "id": "668e95ba",
      "metadata": {
        "id": "668e95ba"
      },
      "outputs": [],
      "source": [
        "class MyLinear(nn.Module) :\n",
        "    def __init__(self, input_dim =3 , output_dim = 2) :\n",
        "        self.input_dim = input_dim\n",
        "        self.ouput_dim = output_dim\n",
        "\n",
        "        super().__init__()\n",
        "\n",
        "        self.W = nn.Parameter(torch.FloatTensor(input_dim , output_dim))\n",
        "        self.b = nn.Parameter(torch.FloatTensor(output_dim))\n",
        "\n",
        "    def forward(self, x) :\n",
        "        # |x| = (batch_size , input_dim)\n",
        "        y = torch.matmul(x, self.W) + self.b\n",
        "        #|y| = (batch_size , input_dim) * (input_dim ,output_dim)\n",
        "        #    = (batch_size , output_dim)\n",
        "        return y"
      ]
    },
    {
      "cell_type": "code",
      "execution_count": 45,
      "id": "aa3cdd08",
      "metadata": {
        "id": "aa3cdd08"
      },
      "outputs": [],
      "source": [
        "linear = MyLinear(3,2)\n",
        "y = linear(x)"
      ]
    },
    {
      "cell_type": "code",
      "execution_count": 46,
      "id": "528182de",
      "metadata": {
        "colab": {
          "base_uri": "https://localhost:8080/"
        },
        "id": "528182de",
        "outputId": "58ca2a75-7170-4cf0-9742-4de4c84433e6"
      },
      "outputs": [
        {
          "output_type": "stream",
          "name": "stdout",
          "text": [
            "Parameter containing:\n",
            "tensor([[0., 0.],\n",
            "        [0., 0.],\n",
            "        [0., 0.]], requires_grad=True)\n",
            "Parameter containing:\n",
            "tensor([0., 0.], requires_grad=True)\n"
          ]
        }
      ],
      "source": [
        "for p in linear.parameters() :\n",
        "    print(p)"
      ]
    },
    {
      "cell_type": "markdown",
      "id": "8238e50a",
      "metadata": {
        "id": "8238e50a"
      },
      "source": [
        "## nn.Linear"
      ]
    },
    {
      "cell_type": "code",
      "execution_count": 47,
      "id": "f922a01b",
      "metadata": {
        "id": "f922a01b"
      },
      "outputs": [],
      "source": [
        "linear = nn.Linear(3,2)\n",
        "y = linear(x)"
      ]
    },
    {
      "cell_type": "code",
      "execution_count": 48,
      "id": "5265ede8",
      "metadata": {
        "colab": {
          "base_uri": "https://localhost:8080/"
        },
        "id": "5265ede8",
        "outputId": "6baadebd-511a-4d9a-d8ae-2c309814a664"
      },
      "outputs": [
        {
          "output_type": "stream",
          "name": "stdout",
          "text": [
            "Parameter containing:\n",
            "tensor([[ 0.5476,  0.2987, -0.4321],\n",
            "        [ 0.2536, -0.4072,  0.4802]], requires_grad=True)\n",
            "Parameter containing:\n",
            "tensor([-0.3377,  0.4745], requires_grad=True)\n"
          ]
        }
      ],
      "source": [
        "for p in linear.parameters() :\n",
        "    print(p)"
      ]
    },
    {
      "cell_type": "markdown",
      "id": "6eadc3af",
      "metadata": {
        "id": "6eadc3af"
      },
      "source": [
        "### nn.Module can contain other nn.Module's child classes"
      ]
    },
    {
      "cell_type": "code",
      "execution_count": 49,
      "id": "6152a237",
      "metadata": {
        "id": "6152a237"
      },
      "outputs": [],
      "source": [
        "class MyLinear(nn.Module) :\n",
        "    def __init__(self, input_dim = 3, output_dim = 2) :\n",
        "        self.input_dim = input_dim\n",
        "        self.ouput_dim = output_dim\n",
        "\n",
        "        super().__init__()\n",
        "\n",
        "        self.linear = nn.Linear(input_dim, output_dim)\n",
        "\n",
        "    def forward(self,x) :\n",
        "        y = self.linear(x)\n",
        "        return y"
      ]
    },
    {
      "cell_type": "markdown",
      "id": "6f37210a",
      "metadata": {
        "id": "6f37210a"
      },
      "source": [
        "# 3. GPU 사용하기\n",
        "* 딥러닝의 연산량은 엄청나기 때문에 딥러닝 연산은 보통 엔비디아 그래픽 처리 장치(GPU)에서 이루어진다.\n",
        "* 파이토치에서도 CUDA 를 통한 GPU 연산을 지원한다.\n",
        "* **서로 다른 장치에 올라가있는 텐서 또는 nn.Module의 하위 클래스 객체끼리는 연산이 불가능하다.**\n",
        "* CPU 와 GPU에 위치한 텐서끼리 연산이 불가능할 뿐만 아니라 0번 GPU 그리고 1번 GPU 사이의 연산도 불가능하다."
      ]
    },
    {
      "cell_type": "markdown",
      "id": "25df1bc6",
      "metadata": {
        "id": "25df1bc6"
      },
      "source": [
        "### Convert to CUDA tensor : cuda()"
      ]
    },
    {
      "cell_type": "code",
      "execution_count": 3,
      "id": "80d14210",
      "metadata": {
        "colab": {
          "base_uri": "https://localhost:8080/"
        },
        "id": "80d14210",
        "outputId": "918dc724-c9cd-4c1b-9d42-aa32658c22ec"
      },
      "outputs": [
        {
          "output_type": "execute_result",
          "data": {
            "text/plain": [
              "tensor([[0., 0.],\n",
              "        [0., 0.]], device='cuda:0')"
            ]
          },
          "metadata": {},
          "execution_count": 3
        }
      ],
      "source": [
        "x = torch.cuda.FloatTensor(2,2)\n",
        "x"
      ]
    },
    {
      "cell_type": "code",
      "execution_count": 4,
      "id": "33b9e5ce",
      "metadata": {
        "colab": {
          "base_uri": "https://localhost:8080/"
        },
        "id": "33b9e5ce",
        "outputId": "4217a7b4-ed50-4ae6-f20f-ddd2d7357031"
      },
      "outputs": [
        {
          "output_type": "execute_result",
          "data": {
            "text/plain": [
              "tensor([[ 1.4013e-45,  0.0000e+00],\n",
              "        [-3.7870e-21,  3.0674e-41]])"
            ]
          },
          "metadata": {},
          "execution_count": 4
        }
      ],
      "source": [
        "x = torch.FloatTensor(2,2)\n",
        "x"
      ]
    },
    {
      "cell_type": "code",
      "execution_count": 5,
      "id": "ef3e4ed8",
      "metadata": {
        "colab": {
          "base_uri": "https://localhost:8080/"
        },
        "id": "ef3e4ed8",
        "outputId": "47a33f7c-2590-42a4-a31c-25c3dcef5ba6"
      },
      "outputs": [
        {
          "output_type": "execute_result",
          "data": {
            "text/plain": [
              "tensor([[ 1.4013e-45,  0.0000e+00],\n",
              "        [-3.7870e-21,  3.0674e-41]], device='cuda:0')"
            ]
          },
          "metadata": {},
          "execution_count": 5
        }
      ],
      "source": [
        "x.cuda()"
      ]
    },
    {
      "cell_type": "code",
      "execution_count": 6,
      "id": "24e6ccc6",
      "metadata": {
        "id": "24e6ccc6"
      },
      "outputs": [],
      "source": [
        "#device 지정\n",
        "d= torch.device('cuda:0')"
      ]
    },
    {
      "cell_type": "code",
      "execution_count": 7,
      "id": "c937f57f",
      "metadata": {
        "colab": {
          "base_uri": "https://localhost:8080/"
        },
        "id": "c937f57f",
        "outputId": "c41f40cf-2a8c-41c6-8563-3698c4675b1a"
      },
      "outputs": [
        {
          "output_type": "execute_result",
          "data": {
            "text/plain": [
              "tensor([[ 1.4013e-45,  0.0000e+00],\n",
              "        [-3.7870e-21,  3.0674e-41]], device='cuda:0')"
            ]
          },
          "metadata": {},
          "execution_count": 7
        }
      ],
      "source": [
        "#move가 아닌 copy 이기 때문에 x 자체는 CPU\n",
        "x.cuda(device =d)"
      ]
    },
    {
      "cell_type": "code",
      "execution_count": 8,
      "id": "abe34633",
      "metadata": {
        "colab": {
          "base_uri": "https://localhost:8080/"
        },
        "id": "abe34633",
        "outputId": "8ae0e0f0-360f-4b35-ed0a-92f5d88acad0"
      },
      "outputs": [
        {
          "output_type": "execute_result",
          "data": {
            "text/plain": [
              "device(type='cpu')"
            ]
          },
          "metadata": {},
          "execution_count": 8
        }
      ],
      "source": [
        "x.device"
      ]
    },
    {
      "cell_type": "markdown",
      "id": "9136b23b",
      "metadata": {
        "id": "9136b23b"
      },
      "source": [
        "### Convert to CUDA tensor : to()"
      ]
    },
    {
      "cell_type": "code",
      "execution_count": 9,
      "id": "bd23855b",
      "metadata": {
        "colab": {
          "base_uri": "https://localhost:8080/"
        },
        "id": "bd23855b",
        "outputId": "ac0d94bb-5dd5-4415-9413-7a0ab5c2c40f"
      },
      "outputs": [
        {
          "output_type": "execute_result",
          "data": {
            "text/plain": [
              "tensor([[ 1.4013e-45,  0.0000e+00],\n",
              "        [-3.7870e-21,  3.0674e-41]], device='cuda:0')"
            ]
          },
          "metadata": {},
          "execution_count": 9
        }
      ],
      "source": [
        "x.to(device = d)"
      ]
    },
    {
      "cell_type": "markdown",
      "id": "7e1a60d3",
      "metadata": {
        "id": "7e1a60d3"
      },
      "source": [
        "## Convert to CPU tensor from CUDA tensor"
      ]
    },
    {
      "cell_type": "code",
      "execution_count": 14,
      "id": "8658d317",
      "metadata": {
        "colab": {
          "base_uri": "https://localhost:8080/"
        },
        "id": "8658d317",
        "outputId": "c0b56865-3834-45f8-d286-180f938ca9e0"
      },
      "outputs": [
        {
          "output_type": "execute_result",
          "data": {
            "text/plain": [
              "tensor([[ 1.4013e-45, -3.7870e-21],\n",
              "        [ 3.0674e-41,  3.0674e-41]], device='cuda:0')"
            ]
          },
          "metadata": {},
          "execution_count": 14
        }
      ],
      "source": [
        "x = torch.cuda.FloatTensor(2,2)\n",
        "x"
      ]
    },
    {
      "cell_type": "code",
      "execution_count": 15,
      "id": "8df088d8",
      "metadata": {
        "colab": {
          "base_uri": "https://localhost:8080/"
        },
        "id": "8df088d8",
        "outputId": "5811386f-f750-4d00-ea1c-0f2ec6e6c584"
      },
      "outputs": [
        {
          "output_type": "execute_result",
          "data": {
            "text/plain": [
              "tensor([[ 1.4013e-45, -3.7870e-21],\n",
              "        [ 3.0674e-41,  3.0674e-41]])"
            ]
          },
          "metadata": {},
          "execution_count": 15
        }
      ],
      "source": [
        "x = x.cpu()\n",
        "x"
      ]
    },
    {
      "cell_type": "code",
      "execution_count": 16,
      "id": "66e16323",
      "metadata": {
        "colab": {
          "base_uri": "https://localhost:8080/"
        },
        "id": "66e16323",
        "outputId": "83090f65-6cf6-4dde-dc33-8f98fcc38220"
      },
      "outputs": [
        {
          "output_type": "execute_result",
          "data": {
            "text/plain": [
              "tensor([[ 1.4013e-45, -3.7870e-21],\n",
              "        [ 3.0674e-41,  3.0674e-41]])"
            ]
          },
          "metadata": {},
          "execution_count": 16
        }
      ],
      "source": [
        "d= torch.device('cpu')\n",
        "x = x.to(d)\n",
        "x"
      ]
    },
    {
      "cell_type": "markdown",
      "id": "24809410",
      "metadata": {
        "id": "24809410"
      },
      "source": [
        "## Move Model from CPU to GPU"
      ]
    },
    {
      "cell_type": "code",
      "execution_count": 17,
      "id": "af55e33a",
      "metadata": {
        "id": "af55e33a"
      },
      "outputs": [],
      "source": [
        "def print_params(model) :\n",
        "    for p in model.parameters() :\n",
        "        print(p)"
      ]
    },
    {
      "cell_type": "code",
      "execution_count": 20,
      "id": "5ca4d9d9",
      "metadata": {
        "colab": {
          "base_uri": "https://localhost:8080/"
        },
        "id": "5ca4d9d9",
        "outputId": "930dc397-4fb8-48d9-8fa1-9dd6ce9cd2cb"
      },
      "outputs": [
        {
          "output_type": "stream",
          "name": "stdout",
          "text": [
            "Parameter containing:\n",
            "tensor([[ 0.6549,  0.2864],\n",
            "        [-0.5833, -0.6752]], requires_grad=True)\n",
            "Parameter containing:\n",
            "tensor([-0.0830,  0.3626], requires_grad=True)\n"
          ]
        }
      ],
      "source": [
        "linear = nn.Linear(2,2)\n",
        "print_params(linear)"
      ]
    },
    {
      "cell_type": "code",
      "execution_count": 21,
      "id": "23b493d5",
      "metadata": {
        "colab": {
          "base_uri": "https://localhost:8080/"
        },
        "id": "23b493d5",
        "outputId": "2bab27cd-695c-4d31-e126-d3614d6bdd81"
      },
      "outputs": [
        {
          "output_type": "stream",
          "name": "stdout",
          "text": [
            "Parameter containing:\n",
            "tensor([[ 0.6549,  0.2864],\n",
            "        [-0.5833, -0.6752]], device='cuda:0', requires_grad=True)\n",
            "Parameter containing:\n",
            "tensor([-0.0830,  0.3626], device='cuda:0', requires_grad=True)\n"
          ]
        }
      ],
      "source": [
        "linear = linear.cuda()\n",
        "print_params(linear)"
      ]
    },
    {
      "cell_type": "code",
      "execution_count": null,
      "id": "f91376e1",
      "metadata": {
        "id": "f91376e1",
        "outputId": "b8e6c643-2b82-4caf-a409-36890ae40dce"
      },
      "outputs": [
        {
          "name": "stdout",
          "output_type": "stream",
          "text": [
            "Parameter containing:\n",
            "tensor([[-0.6543,  0.0342],\n",
            "        [ 0.3232,  0.4173]], requires_grad=True)\n",
            "Parameter containing:\n",
            "tensor([-0.4891, -0.0220], requires_grad=True)\n"
          ]
        }
      ],
      "source": [
        "linear = linear.cpu()\n",
        "print_params(linear)"
      ]
    },
    {
      "cell_type": "code",
      "execution_count": 22,
      "id": "12cfefa7",
      "metadata": {
        "colab": {
          "base_uri": "https://localhost:8080/"
        },
        "id": "12cfefa7",
        "outputId": "900ffc3a-ae88-48d9-ec7e-97a6a74d99ce"
      },
      "outputs": [
        {
          "output_type": "stream",
          "name": "stdout",
          "text": [
            "Parameter containing:\n",
            "tensor([[ 0.6549,  0.2864],\n",
            "        [-0.5833, -0.6752]], device='cuda:0', requires_grad=True)\n",
            "Parameter containing:\n",
            "tensor([-0.0830,  0.3626], device='cuda:0', requires_grad=True)\n"
          ]
        }
      ],
      "source": [
        "d = torch.device('cuda:0')\n",
        "linear = linear.to(d)\n",
        "\n",
        "print_params(linear)"
      ]
    },
    {
      "cell_type": "code",
      "execution_count": 23,
      "id": "d83cec31",
      "metadata": {
        "colab": {
          "base_uri": "https://localhost:8080/",
          "height": 263
        },
        "id": "d83cec31",
        "outputId": "9f8cdc76-b252-460f-d5ac-94c2fa264dfb"
      },
      "outputs": [
        {
          "output_type": "error",
          "ename": "AttributeError",
          "evalue": "'Linear' object has no attribute 'device'",
          "traceback": [
            "\u001b[0;31m---------------------------------------------------------------------------\u001b[0m",
            "\u001b[0;31mAttributeError\u001b[0m                            Traceback (most recent call last)",
            "\u001b[0;32m<ipython-input-23-bdfecd7639a3>\u001b[0m in \u001b[0;36m<cell line: 1>\u001b[0;34m()\u001b[0m\n\u001b[0;32m----> 1\u001b[0;31m \u001b[0mlinear\u001b[0m\u001b[0;34m.\u001b[0m\u001b[0mdevice\u001b[0m \u001b[0;31m# 모델은 device 위치를 알 수 없음\u001b[0m\u001b[0;34m\u001b[0m\u001b[0;34m\u001b[0m\u001b[0m\n\u001b[0m",
            "\u001b[0;32m/usr/local/lib/python3.10/dist-packages/torch/nn/modules/module.py\u001b[0m in \u001b[0;36m__getattr__\u001b[0;34m(self, name)\u001b[0m\n\u001b[1;32m   1686\u001b[0m             \u001b[0;32mif\u001b[0m \u001b[0mname\u001b[0m \u001b[0;32min\u001b[0m \u001b[0mmodules\u001b[0m\u001b[0;34m:\u001b[0m\u001b[0;34m\u001b[0m\u001b[0;34m\u001b[0m\u001b[0m\n\u001b[1;32m   1687\u001b[0m                 \u001b[0;32mreturn\u001b[0m \u001b[0mmodules\u001b[0m\u001b[0;34m[\u001b[0m\u001b[0mname\u001b[0m\u001b[0;34m]\u001b[0m\u001b[0;34m\u001b[0m\u001b[0;34m\u001b[0m\u001b[0m\n\u001b[0;32m-> 1688\u001b[0;31m         \u001b[0;32mraise\u001b[0m \u001b[0mAttributeError\u001b[0m\u001b[0;34m(\u001b[0m\u001b[0;34mf\"'{type(self).__name__}' object has no attribute '{name}'\"\u001b[0m\u001b[0;34m)\u001b[0m\u001b[0;34m\u001b[0m\u001b[0;34m\u001b[0m\u001b[0m\n\u001b[0m\u001b[1;32m   1689\u001b[0m \u001b[0;34m\u001b[0m\u001b[0m\n\u001b[1;32m   1690\u001b[0m     \u001b[0;32mdef\u001b[0m \u001b[0m__setattr__\u001b[0m\u001b[0;34m(\u001b[0m\u001b[0mself\u001b[0m\u001b[0;34m,\u001b[0m \u001b[0mname\u001b[0m\u001b[0;34m:\u001b[0m \u001b[0mstr\u001b[0m\u001b[0;34m,\u001b[0m \u001b[0mvalue\u001b[0m\u001b[0;34m:\u001b[0m \u001b[0mUnion\u001b[0m\u001b[0;34m[\u001b[0m\u001b[0mTensor\u001b[0m\u001b[0;34m,\u001b[0m \u001b[0;34m'Module'\u001b[0m\u001b[0;34m]\u001b[0m\u001b[0;34m)\u001b[0m \u001b[0;34m->\u001b[0m \u001b[0;32mNone\u001b[0m\u001b[0;34m:\u001b[0m\u001b[0;34m\u001b[0m\u001b[0;34m\u001b[0m\u001b[0m\n",
            "\u001b[0;31mAttributeError\u001b[0m: 'Linear' object has no attribute 'device'"
          ]
        }
      ],
      "source": [
        "linear.device # 모델은 device 위치를 알 수 없음"
      ]
    },
    {
      "cell_type": "markdown",
      "id": "21e630ff",
      "metadata": {
        "id": "21e630ff"
      },
      "source": [
        "## Tricks"
      ]
    },
    {
      "cell_type": "code",
      "execution_count": 24,
      "id": "0b0d58a5",
      "metadata": {
        "id": "0b0d58a5"
      },
      "outputs": [],
      "source": [
        "x = torch.cuda.FloatTensor(2,2)"
      ]
    },
    {
      "cell_type": "code",
      "execution_count": 25,
      "id": "9092fa4f",
      "metadata": {
        "colab": {
          "base_uri": "https://localhost:8080/"
        },
        "id": "9092fa4f",
        "outputId": "c32d03ef-f06c-46ad-a3d7-8bfb71fa1194"
      },
      "outputs": [
        {
          "output_type": "execute_result",
          "data": {
            "text/plain": [
              "tensor([[1.0842e-19, 1.4161e+00],\n",
              "        [5.8335e-01, 6.7517e-01]], device='cuda:0')"
            ]
          },
          "metadata": {},
          "execution_count": 25
        }
      ],
      "source": [
        "#x와 같은 타입이면서 같은 디바이스에 있는 특정 사이즈의 텐서를 만들어줘\n",
        "x.new(2,2)"
      ]
    },
    {
      "cell_type": "code",
      "execution_count": 26,
      "id": "74527214",
      "metadata": {
        "colab": {
          "base_uri": "https://localhost:8080/"
        },
        "id": "74527214",
        "outputId": "3ed3fbb2-710b-4c79-d52d-3c3146afb6e3"
      },
      "outputs": [
        {
          "output_type": "execute_result",
          "data": {
            "text/plain": [
              "tensor([[0., 0.],\n",
              "        [0., 0.]], device='cuda:0')"
            ]
          },
          "metadata": {},
          "execution_count": 26
        }
      ],
      "source": [
        "torch.zeros_like(x)"
      ]
    },
    {
      "cell_type": "code",
      "execution_count": 27,
      "id": "ce67ddd1",
      "metadata": {
        "colab": {
          "base_uri": "https://localhost:8080/"
        },
        "id": "ce67ddd1",
        "outputId": "ff9bdb5a-a6a8-4a34-c419-2c7d35ae04f2"
      },
      "outputs": [
        {
          "output_type": "execute_result",
          "data": {
            "text/plain": [
              "tensor([[1., 1.],\n",
              "        [1., 1.]], device='cuda:0')"
            ]
          },
          "metadata": {},
          "execution_count": 27
        }
      ],
      "source": [
        "torch.ones_like(x)"
      ]
    },
    {
      "cell_type": "code",
      "execution_count": 28,
      "id": "9e9e38f3",
      "metadata": {
        "colab": {
          "base_uri": "https://localhost:8080/"
        },
        "id": "9e9e38f3",
        "outputId": "3c7baa41-1a11-47f9-f49d-94658e7905f0"
      },
      "outputs": [
        {
          "output_type": "execute_result",
          "data": {
            "text/plain": [
              "tensor([[1., 1.],\n",
              "        [1., 1.]], device='cuda:0')"
            ]
          },
          "metadata": {},
          "execution_count": 28
        }
      ],
      "source": [
        "list(linear.parameters())[0].new(2,2)"
      ]
    },
    {
      "cell_type": "code",
      "execution_count": null,
      "id": "c66595b9",
      "metadata": {
        "id": "c66595b9"
      },
      "outputs": [],
      "source": []
    }
  ],
  "metadata": {
    "kernelspec": {
      "display_name": "Python 3",
      "name": "python3"
    },
    "language_info": {
      "codemirror_mode": {
        "name": "ipython",
        "version": 3
      },
      "file_extension": ".py",
      "mimetype": "text/x-python",
      "name": "python",
      "nbconvert_exporter": "python",
      "pygments_lexer": "ipython3",
      "version": "3.11.5"
    },
    "colab": {
      "provenance": [],
      "gpuType": "T4"
    },
    "accelerator": "GPU"
  },
  "nbformat": 4,
  "nbformat_minor": 5
}